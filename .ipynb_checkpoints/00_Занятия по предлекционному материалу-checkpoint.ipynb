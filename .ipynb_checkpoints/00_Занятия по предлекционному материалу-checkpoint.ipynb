{
 "cells": [
  {
   "cell_type": "markdown",
   "metadata": {},
   "source": [
    "# Строки, индексы, функции и методы, f-строки"
   ]
  },
  {
   "cell_type": "code",
   "execution_count": 9,
   "metadata": {},
   "outputs": [
    {
     "name": "stdout",
     "output_type": "stream",
     "text": [
      "l\n",
      "r\n",
      "hlo\n",
      "llo world\n",
      "he\n",
      "HELLO WORLD\n",
      "goodbye world\n",
      "Len= 11\n",
      "ok\n",
      "Strings hello world and hello\n"
     ]
    }
   ],
   "source": [
    "str1 = \"hello world\"\n",
    "# индексы строк\n",
    "print(str1[2])\n",
    "print(str1[-3])\n",
    "print(str1[0:6:2])\n",
    "print(str1[2:])\n",
    "print(str1[:2])\n",
    "\n",
    "# функции и методы строк\n",
    "print( str1.upper() )\n",
    "print( str1.replace(\"hello\",\"goodbye\") )\n",
    "print( \"Len=\" , str( len(str1) ) )\n",
    "\n",
    "# вхождение одной строки в другую\n",
    "str2 = 'hello'\n",
    "if str2 in str1:\n",
    "    print('ok')\n",
    "    \n",
    "# f-строки с параметризацией\n",
    "print( f\"Strings {str1} and {str2}\" )"
   ]
  },
  {
   "cell_type": "markdown",
   "metadata": {},
   "source": [
    "# Списки"
   ]
  },
  {
   "cell_type": "code",
   "execution_count": 2,
   "metadata": {
    "scrolled": true
   },
   "outputs": [
    {
     "name": "stdout",
     "output_type": "stream",
     "text": [
      "<class 'list'>\n",
      "two\n",
      "Jan\n",
      "['one', 'two']\n",
      "['one', 'two']\n",
      "['one', 'new', 'three']\n",
      "[[11, 'Nov'], [12, 'Dec'], [3, 'Mar']]\n",
      "[[11, 'Nov'], [12, 'Dec'], [3, 'Mar'], 1, 2, 3]\n"
     ]
    }
   ],
   "source": [
    "myint = [1,2,3]\n",
    "mystr = ['one','two','three']\n",
    "mypairs = [[1,'Jan'],[2,'Feb'],[3,'Mar']]\n",
    "print(type(mystr))\n",
    "\n",
    "# индексация, в т.ч. вложенная структура списков\n",
    "print(mystr[1])\n",
    "print(mypairs[0][1])\n",
    "\n",
    "# срезы (правая граница не входит)\n",
    "print(mystr[0:2])\n",
    "print(mystr[-3:-1])\n",
    "\n",
    "# изменение списков\n",
    "mystr[1] = 'new'\n",
    "print(mystr)\n",
    "mypairs[0:2] = [[11,'Nov'],[12,'Dec']]\n",
    "print(mypairs)\n",
    "\n",
    "# конкатенация списков\n",
    "myfull = mypairs + myint\n",
    "print(myfull)"
   ]
  },
  {
   "cell_type": "code",
   "execution_count": 61,
   "metadata": {},
   "outputs": [
    {
     "name": "stdout",
     "output_type": "stream",
     "text": [
      "1\n",
      "2\n"
     ]
    }
   ],
   "source": [
    "# одним махом значения двум переменным\n",
    "a, b = [1,2]\n",
    "print(a)\n",
    "print(b)"
   ]
  },
  {
   "cell_type": "markdown",
   "metadata": {},
   "source": [
    "## Операции со списками"
   ]
  },
  {
   "cell_type": "code",
   "execution_count": 4,
   "metadata": {},
   "outputs": [
    {
     "data": {
      "text/plain": [
       "'1'"
      ]
     },
     "execution_count": 4,
     "metadata": {},
     "output_type": "execute_result"
    }
   ],
   "source": [
    "# назначение нескольким переменным значений из списка\n",
    "first, second, third = ['1','2','3']\n",
    "first"
   ]
  },
  {
   "cell_type": "code",
   "execution_count": 11,
   "metadata": {},
   "outputs": [
    {
     "data": {
      "text/plain": [
       "['2', '3']"
      ]
     },
     "execution_count": 11,
     "metadata": {},
     "output_type": "execute_result"
    }
   ],
   "source": [
    "# когда число элементов неизвестно\n",
    "first, *other, last = ['1','2','3','4']\n",
    "other"
   ]
  },
  {
   "cell_type": "code",
   "execution_count": 16,
   "metadata": {
    "scrolled": true
   },
   "outputs": [
    {
     "data": {
      "text/plain": [
       "[1]"
      ]
     },
     "execution_count": 16,
     "metadata": {},
     "output_type": "execute_result"
    }
   ],
   "source": [
    "mystr = [1,3]\n",
    "\n",
    "# удаление элемента по индексу функцией\n",
    "del(mystr[-1])\n",
    "mystr"
   ]
  },
  {
   "cell_type": "code",
   "execution_count": 18,
   "metadata": {},
   "outputs": [
    {
     "data": {
      "text/plain": [
       "['two']"
      ]
     },
     "execution_count": 18,
     "metadata": {},
     "output_type": "execute_result"
    }
   ],
   "source": [
    "mystr = ['one','two']\n",
    "\n",
    "# удаление по названию методом\n",
    "mystr.remove('one')\n",
    "mystr"
   ]
  },
  {
   "cell_type": "code",
   "execution_count": 20,
   "metadata": {},
   "outputs": [
    {
     "data": {
      "text/plain": [
       "['one', 'two', 'three']"
      ]
     },
     "execution_count": 20,
     "metadata": {},
     "output_type": "execute_result"
    }
   ],
   "source": [
    "mystr = ['one','two']\n",
    "\n",
    "# добавить элемент в конец списка методом\n",
    "mystr.append('three')\n",
    "mystr"
   ]
  },
  {
   "cell_type": "code",
   "execution_count": 22,
   "metadata": {},
   "outputs": [
    {
     "data": {
      "text/plain": [
       "['one', 'new', 'two', 'three']"
      ]
     },
     "execution_count": 22,
     "metadata": {},
     "output_type": "execute_result"
    }
   ],
   "source": [
    "mystr = ['one','two','three']\n",
    "\n",
    "# добавление элемента по нужному индексу методом\n",
    "mystr.insert(1,'new')\n",
    "mystr"
   ]
  },
  {
   "cell_type": "code",
   "execution_count": 7,
   "metadata": {},
   "outputs": [
    {
     "name": "stdout",
     "output_type": "stream",
     "text": [
      "Count:  1\n",
      "Index: 3\n"
     ]
    }
   ],
   "source": [
    "mystr = ['one','two','three','new']\n",
    "\n",
    "# посчитать количество вхождений элемента, узнать индекс первого вхождения элемента методами\n",
    "print( 'Count: ', mystr.count('new') )\n",
    "print( 'Index:', mystr.index('new', 1) )"
   ]
  },
  {
   "cell_type": "code",
   "execution_count": 20,
   "metadata": {},
   "outputs": [
    {
     "name": "stdout",
     "output_type": "stream",
     "text": [
      "['four', 'three', 'two', 'one']\n",
      "[3, 2, 1]\n"
     ]
    }
   ],
   "source": [
    "mystr = ['one','two','three','four']\n",
    "myint = [1,3,2]\n",
    "\n",
    "# развернуть список методом\n",
    "mystr.reverse()\n",
    "print(mystr)\n",
    "\n",
    "# сортировать список функцией (не изменяет исходный объект)\n",
    "print( sorted(myint, reverse=True) )\n"
   ]
  },
  {
   "cell_type": "code",
   "execution_count": 28,
   "metadata": {},
   "outputs": [
    {
     "name": "stdout",
     "output_type": "stream",
     "text": [
      "13\n",
      "7\n",
      "4\n",
      "['one', 'two', 'three', 'four']\n"
     ]
    }
   ],
   "source": [
    "myint = [1,3,2,7]\n",
    "\n",
    "# агрегирование списка функциями Sum, Max, Len (не изменяют исходный объект)\n",
    "print( sum(myint) )\n",
    "print( max(myint) )\n",
    "print( len(myint) )\n",
    "\n",
    "# необычное применение Sum со вторым параметром (к чему складывается) для разглаживания списков\n",
    "print( sum( [['one','two'],['three','four']], [] ) )\n"
   ]
  },
  {
   "cell_type": "markdown",
   "metadata": {},
   "source": [
    "## Копирование списка из одной переменной в другую"
   ]
  },
  {
   "cell_type": "code",
   "execution_count": 22,
   "metadata": {},
   "outputs": [
    {
     "name": "stdout",
     "output_type": "stream",
     "text": [
      "[1, 3, 2]\n"
     ]
    }
   ],
   "source": [
    "# через импорт библиотеки копирования\n",
    "import copy\n",
    "a = [1,3,2]\n",
    "b = copy.copy(a)\n",
    "id(a),id(b)\n",
    "\n",
    "# просто методом\n",
    "c = a.copy()\n",
    "print(c)"
   ]
  },
  {
   "cell_type": "markdown",
   "metadata": {},
   "source": [
    "## Манипуляции со списками и строками"
   ]
  },
  {
   "cell_type": "code",
   "execution_count": 21,
   "metadata": {},
   "outputs": [
    {
     "name": "stdout",
     "output_type": "stream",
     "text": [
      "['первый', 'второй', 'третий']\n",
      "one,two,three\n"
     ]
    },
    {
     "data": {
      "text/plain": [
       "False"
      ]
     },
     "execution_count": 21,
     "metadata": {},
     "output_type": "execute_result"
    }
   ],
   "source": [
    "csv_string = 'первый,второй,третий'\n",
    "# строку в список указав разделитель\n",
    "csv_list = csv_string.split(',')\n",
    "print(csv_list)\n",
    "\n",
    "csv_list2 = ['one','two','three']\n",
    "# список в строку\n",
    "csv_string2 = ','.join(csv_list2)\n",
    "print(csv_string2)\n",
    "\n",
    "# проверка вхождения элемента в список\n",
    "'Москва' not in ['Ленинград', 'Одесса', 'Севастополь', 'Москва']"
   ]
  },
  {
   "cell_type": "markdown",
   "metadata": {},
   "source": [
    "## Кортежи"
   ]
  },
  {
   "cell_type": "code",
   "execution_count": 5,
   "metadata": {},
   "outputs": [
    {
     "name": "stdout",
     "output_type": "stream",
     "text": [
      "(1, 2, 3)\n",
      "2\n"
     ]
    }
   ],
   "source": [
    "tuple_1 = (1,2,3)\n",
    "print( tuple_1 )\n",
    "print( tuple_1[1] )\n"
   ]
  },
  {
   "cell_type": "code",
   "execution_count": 93,
   "metadata": {},
   "outputs": [
    {
     "data": {
      "text/plain": [
       "zip"
      ]
     },
     "execution_count": 93,
     "metadata": {},
     "output_type": "execute_result"
    }
   ],
   "source": [
    "# склеивание двух списков в ZIP\n",
    "list_1 = ['first','second','third']\n",
    "list_2 = [100,200,300]\n",
    "lists = zip(list_1,list_2)\n",
    "type(lists)"
   ]
  },
  {
   "cell_type": "code",
   "execution_count": 51,
   "metadata": {
    "scrolled": true
   },
   "outputs": [
    {
     "data": {
      "text/plain": [
       "[('first', 100), ('second', 200), ('third', 300)]"
      ]
     },
     "execution_count": 51,
     "metadata": {},
     "output_type": "execute_result"
    }
   ],
   "source": [
    "# распаковка ZIP в список из кортежей\n",
    "list(lists)"
   ]
  },
  {
   "cell_type": "markdown",
   "metadata": {},
   "source": [
    "## Циклы"
   ]
  },
  {
   "cell_type": "code",
   "execution_count": 68,
   "metadata": {},
   "outputs": [
    {
     "name": "stdout",
     "output_type": "stream",
     "text": [
      "4\n",
      "3\n",
      "2\n",
      "1\n",
      "0\n"
     ]
    }
   ],
   "source": [
    "x = 5\n",
    "while x!= 0:\n",
    "    x-=1\n",
    "    print(x)"
   ]
  },
  {
   "cell_type": "code",
   "execution_count": 70,
   "metadata": {},
   "outputs": [
    {
     "name": "stdout",
     "output_type": "stream",
     "text": [
      "7 нечетное\n",
      "6 четное\n",
      "5 нечетное\n",
      "4 четное\n",
      "3 нечетное\n",
      "2 четное\n",
      "1 нечетное\n"
     ]
    }
   ],
   "source": [
    "x = 7\n",
    "while x!= 0:\n",
    "    if x % 2 == 0:\n",
    "        print (x, 'четное')\n",
    "    else:\n",
    "        print (x,'нечетное')\n",
    "    x = x - 1"
   ]
  },
  {
   "cell_type": "code",
   "execution_count": 71,
   "metadata": {},
   "outputs": [
    {
     "name": "stdout",
     "output_type": "stream",
     "text": [
      "o\n",
      "r\n",
      "a\n",
      "n\n",
      "g\n",
      "e\n"
     ]
    }
   ],
   "source": [
    "# перебор по символам строки\n",
    "name = 'orange'\n",
    "for letter in name:\n",
    "    print(letter)"
   ]
  },
  {
   "cell_type": "code",
   "execution_count": 78,
   "metadata": {},
   "outputs": [
    {
     "name": "stdout",
     "output_type": "stream",
     "text": [
      "one - 1\n",
      "two - 2\n"
     ]
    }
   ],
   "source": [
    "# итерация по спискам\n",
    "list = [\n",
    "    ['one',1],\n",
    "    ['two',2]\n",
    "]\n",
    "\n",
    "for item in list:\n",
    "    print(item[0],'-',item[1])"
   ]
  },
  {
   "cell_type": "code",
   "execution_count": 81,
   "metadata": {},
   "outputs": [],
   "source": [
    "# break, continue, pass\n",
    "for item in list:\n",
    "    pass"
   ]
  },
  {
   "cell_type": "markdown",
   "metadata": {},
   "source": [
    "# Вспомогательные функции для переборов"
   ]
  },
  {
   "cell_type": "code",
   "execution_count": 18,
   "metadata": {
    "scrolled": true
   },
   "outputs": [
    {
     "name": "stdout",
     "output_type": "stream",
     "text": [
      "[0, 1, 2, 3, 4, 5, 6, 7, 8, 9]\n"
     ]
    }
   ],
   "source": [
    "# диапазон (объект-\"генератор\")\n",
    "print(list(range(10)))\n"
   ]
  },
  {
   "cell_type": "code",
   "execution_count": 6,
   "metadata": {},
   "outputs": [
    {
     "name": "stdout",
     "output_type": "stream",
     "text": [
      "8\n",
      "9\n",
      "8\n",
      "11\n",
      "14\n",
      "17\n"
     ]
    }
   ],
   "source": [
    "# указание границ (правая, как обычно, не включается, потому что начало с 0), использование как объект для итерирования в цикле\n",
    "for i in range(8,10):\n",
    "    print(i)\n",
    "    \n",
    "# шаг \n",
    "for i in range(8,20,3):\n",
    "    print(i)"
   ]
  },
  {
   "cell_type": "code",
   "execution_count": 15,
   "metadata": {},
   "outputs": [
    {
     "name": "stdout",
     "output_type": "stream",
     "text": [
      "[(0, 7), (1, 100), (2, 65)]\n",
      "1 two - 2\n",
      "2 one - 1\n"
     ]
    }
   ],
   "source": [
    "# диапазон с автоматическим присвоением индексов элементам и помещением в кортеж к ним\n",
    "print( list(enumerate([7,100,65])) )\n",
    "\n",
    "data=[\n",
    "    ['two',2],\n",
    "    ['one',1]\n",
    "]\n",
    "\n",
    "# удобно использовать для компактного разбора табличной структуры из списков двойной вложенности\n",
    "for i, str in enumerate(data):\n",
    "    print(i+1, str[0], '-', str[1])"
   ]
  },
  {
   "cell_type": "markdown",
   "metadata": {},
   "source": [
    "# List comprehension"
   ]
  },
  {
   "cell_type": "code",
   "execution_count": 8,
   "metadata": {},
   "outputs": [
    {
     "data": {
      "text/plain": [
       "[4, 16, 36, 64]"
      ]
     },
     "execution_count": 8,
     "metadata": {},
     "output_type": "execute_result"
    }
   ],
   "source": [
    "# запаковывание конструкций циклов в список\n",
    "sequence = list(range(1,10))\n",
    "sequence\n",
    "num = 0\n",
    "\n",
    "[num**2 for num in sequence if num % 2 == 0]"
   ]
  },
  {
   "cell_type": "code",
   "execution_count": 13,
   "metadata": {},
   "outputs": [
    {
     "data": {
      "text/plain": [
       "1067"
      ]
     },
     "execution_count": 13,
     "metadata": {},
     "output_type": "execute_result"
    }
   ],
   "source": [
    "api_response = [\n",
    "    ['2017-12-26', '777', 184],\n",
    "    ['2017-12-27', '111', 146],\n",
    "    ['2017-12-28', '777', 98],\n",
    "    ['2017-12-29', '777', 206],\n",
    "    ['2017-12-30', '111', 254],\n",
    "    ['2017-12-31', '777', 89],\n",
    "    ['2018-01-01', '111', 54],\n",
    "    ['2018-01-02', '777', 68],\n",
    "    ['2018-01-03', '777', 74],\n",
    "    ['2018-01-04', '111', 89],\n",
    "    ['2018-01-05', '777', 104],\n",
    "    ['2018-01-06', '777', 99],\n",
    "    ['2018-01-07', '777', 145],\n",
    "    ['2018-01-08', '111', 184],\n",
    "]\n",
    "\n",
    "# завертывание списка, полученного после обогащения через цикл, в функцию агрегации\n",
    "sum( [element[2] for element in api_response if element[1] == '777'] )"
   ]
  },
  {
   "cell_type": "markdown",
   "metadata": {},
   "source": [
    "# Множества"
   ]
  },
  {
   "cell_type": "code",
   "execution_count": 3,
   "metadata": {},
   "outputs": [
    {
     "name": "stdout",
     "output_type": "stream",
     "text": [
      "{'one', 'three', 'two'}\n",
      "{'four', 'one', 'three', 'two'}\n",
      "{'six', 'two', 'five', 'four', 'one', 'three'}\n",
      "['six', 'two', 'five', 'four', 'one', 'three']\n",
      "{'Java', 'SAS', 'SQL', 'Git', 'Python', 'Tableau', 'Hadoop', 'Scala', 'R'}\n",
      "{'Git', 'Python', 'SQL'}\n",
      "{'Java', 'Hadoop', 'Scala'}\n",
      "{'Java', 'SAS', 'Tableau', 'Hadoop', 'Scala', 'R'}\n"
     ]
    }
   ],
   "source": [
    "# занесение списка в множество, например для отсева дублирующихся значений\n",
    "set1 = set(['one','two','two','three'])\n",
    "print(set1)\n",
    "\n",
    "# добавление элементов\n",
    "# один элемент\n",
    "set1.add('four')\n",
    "print(set1)\n",
    "# несколько элементов\n",
    "set1.update(['five','six'])\n",
    "print(set1)\n",
    "\n",
    "# конвертация множества обратно в список\n",
    "list1 = list(set1)\n",
    "print(list1)\n",
    "list1[1]\n",
    "\n",
    "# операции со множествами\n",
    "data_scientist_skills = set(['Python', 'R', 'SQL', 'Tableau', 'SAS', 'Git'])\n",
    "data_engineer_skills = set(['Python', 'Java', 'Scala', 'Git', 'SQL', 'Hadoop'])\n",
    "print(data_scientist_skills.union(data_engineer_skills))\n",
    "print(data_scientist_skills.intersection(data_engineer_skills))\n",
    "print(data_engineer_skills.difference(data_scientist_skills))\n",
    "print(data_engineer_skills.symmetric_difference(data_scientist_skills))"
   ]
  },
  {
   "cell_type": "markdown",
   "metadata": {},
   "source": [
    "# Словари\n"
   ]
  },
  {
   "cell_type": "code",
   "execution_count": 5,
   "metadata": {},
   "outputs": [
    {
     "name": "stdout",
     "output_type": "stream",
     "text": [
      "val1\n",
      "['key1', 'key2', 'key3']\n",
      "['val1', 'val2', 'val3']\n",
      "[('key1', 'val1'), ('key2', 'val2'), ('key3', 'val3')]\n",
      "['key1', 'key2']\n",
      "[{'ent1': 'val1', 'ent2': 'val2'}, {'ent1': 'val3', 'ent2': 'val4'}]\n",
      "[('key1', {'ent1': 'val1', 'ent2': 'val2'}), ('key2', {'ent1': 'val3', 'ent2': 'val4'})]\n"
     ]
    }
   ],
   "source": [
    "# одноуровневый словарь, получение значения по ключу\n",
    "dict1 = {\n",
    "    'key1':'val1',\n",
    "    'key2':'val2',\n",
    "}\n",
    "print(dict1['key1'])\n",
    "\n",
    "dict1['key3']='val3'\n",
    "dict1['key3']\n",
    "\n",
    "# вложенный словарь\n",
    "dict2 = {\n",
    "    'key1':{'ent1':'val1','ent2':'val2'},\n",
    "    'key2':{'ent1':'val3','ent2':'val4'},\n",
    "}\n",
    "dict2['key1']['ent2']\n",
    "\n",
    "# методы и функции для получения списков ключей/значений/пар ключей-значений \n",
    "print(list(dict1.keys()))\n",
    "print(list(dict1.values()))\n",
    "# метод items возвращает кортежи\n",
    "print(list(dict1.items()))\n",
    "\n",
    "print(list(dict2.keys()))\n",
    "print(list(dict2.values()))\n",
    "print(list(dict2.items()))"
   ]
  },
  {
   "cell_type": "markdown",
   "metadata": {},
   "source": [
    "# Функции"
   ]
  },
  {
   "cell_type": "code",
   "execution_count": 2,
   "metadata": {},
   "outputs": [
    {
     "name": "stdout",
     "output_type": "stream",
     "text": [
      "Object `del` not found.\n"
     ]
    }
   ],
   "source": [
    "# list sum len type sorted zip range enumerate set dict int\n",
    "?\n"
   ]
  },
  {
   "cell_type": "markdown",
   "metadata": {},
   "source": [
    "# Работа с файлами"
   ]
  },
  {
   "cell_type": "code",
   "execution_count": 18,
   "metadata": {},
   "outputs": [
    {
     "name": "stdout",
     "output_type": "stream",
     "text": [
      "user_id,source\n",
      "\n"
     ]
    }
   ],
   "source": [
    "file2read = open('visit_log.csv', 'r')\n",
    "\n",
    "# file2read.readline()\n",
    "\n",
    "# next(file2read)\n",
    "\n",
    "for line in file2read:\n",
    "    print(line)\n",
    "    \n",
    "    break\n",
    "    \n",
    "\n",
    "file2read.close()"
   ]
  },
  {
   "cell_type": "code",
   "execution_count": 20,
   "metadata": {
    "scrolled": true
   },
   "outputs": [
    {
     "name": "stdout",
     "output_type": "stream",
     "text": [
      "{'user_id': 'user_id', 'category': 'category'}\n",
      "{'user_id': '1840e0b9d4', 'category': 'Продукты'}\n",
      "{'user_id': '4e4f90fcfb', 'category': 'Электроника'}\n",
      "{'user_id': 'afea8d72fc', 'category': 'Электроника'}\n",
      "{'user_id': '373a6055fe', 'category': 'Бытовая техника'}\n",
      "{'user_id': '9b2ab046f3', 'category': 'Электроника'}\n"
     ]
    }
   ],
   "source": [
    "import json\n",
    "\n",
    "i = 0\n",
    "with open('purchase_log.txt', encoding='utf-8') as f:\n",
    "    for line in f:\n",
    "        line = line.strip()\n",
    "        dict_line = json.loads(line)\n",
    "        print(dict_line)\n",
    "        \n",
    "        i += 1\n",
    "        if i > 5:\n",
    "            break"
   ]
  },
  {
   "cell_type": "markdown",
   "metadata": {},
   "source": [
    "# Дата время"
   ]
  },
  {
   "cell_type": "code",
   "execution_count": null,
   "metadata": {},
   "outputs": [],
   "source": [
    "from datetime import datetime\n",
    "\n",
    "from datetime import timedelta\n",
    "\n",
    "# табуляция для просмотра всех методов класса\n",
    "timedelta.days\n",
    "\n"
   ]
  },
  {
   "cell_type": "markdown",
   "metadata": {},
   "source": [
    "# Requests"
   ]
  },
  {
   "cell_type": "code",
   "execution_count": 2,
   "metadata": {},
   "outputs": [],
   "source": [
    "# import requests module \n",
    "import requests\n",
    "  \n",
    "# Making a get request \n",
    "# response = requests.get('https://api.github.com') \n",
    "# response = requests.get('https://www.cbr-xml-daily.ru/daily_json.js') \n",
    "  \n",
    "# # print response \n",
    "# print(response) \n",
    "  \n",
    "# print json content \n",
    "# print(response.json()) \n",
    "\n",
    "# функция для вывода всех атрибутов и методов класса\n",
    "dir(requests)\n",
    "\n",
    "?max"
   ]
  },
  {
   "cell_type": "code",
   "execution_count": 3,
   "metadata": {},
   "outputs": [
    {
     "name": "stdout",
     "output_type": "stream",
     "text": [
      "The Zen of Python, by Tim Peters\n",
      "\n",
      "Beautiful is better than ugly.\n",
      "Explicit is better than implicit.\n",
      "Simple is better than complex.\n",
      "Complex is better than complicated.\n",
      "Flat is better than nested.\n",
      "Sparse is better than dense.\n",
      "Readability counts.\n",
      "Special cases aren't special enough to break the rules.\n",
      "Although practicality beats purity.\n",
      "Errors should never pass silently.\n",
      "Unless explicitly silenced.\n",
      "In the face of ambiguity, refuse the temptation to guess.\n",
      "There should be one-- and preferably only one --obvious way to do it.\n",
      "Although that way may not be obvious at first unless you're Dutch.\n",
      "Now is better than never.\n",
      "Although never is often better than *right* now.\n",
      "If the implementation is hard to explain, it's a bad idea.\n",
      "If the implementation is easy to explain, it may be a good idea.\n",
      "Namespaces are one honking great idea -- let's do more of those!\n"
     ]
    }
   ],
   "source": [
    "import this"
   ]
  }
 ],
 "metadata": {
  "kernelspec": {
   "display_name": "Python 3",
   "language": "python",
   "name": "python3"
  },
  "language_info": {
   "codemirror_mode": {
    "name": "ipython",
    "version": 3
   },
   "file_extension": ".py",
   "mimetype": "text/x-python",
   "name": "python",
   "nbconvert_exporter": "python",
   "pygments_lexer": "ipython3",
   "version": "3.8.3"
  }
 },
 "nbformat": 4,
 "nbformat_minor": 4
}
