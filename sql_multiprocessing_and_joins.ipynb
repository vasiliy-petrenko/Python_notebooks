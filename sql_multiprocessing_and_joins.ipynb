{
 "cells": [
  {
   "cell_type": "markdown",
   "metadata": {},
   "source": [
    "# Простая база данных"
   ]
  },
  {
   "cell_type": "markdown",
   "metadata": {},
   "source": [
    "Запись датафрейма в базу данных"
   ]
  },
  {
   "cell_type": "code",
   "execution_count": 1,
   "metadata": {},
   "outputs": [],
   "source": [
    "import pandas as pd\n",
    "import sqlite3"
   ]
  },
  {
   "cell_type": "code",
   "execution_count": 2,
   "metadata": {},
   "outputs": [
    {
     "data": {
      "text/html": [
       "<div>\n",
       "<style scoped>\n",
       "    .dataframe tbody tr th:only-of-type {\n",
       "        vertical-align: middle;\n",
       "    }\n",
       "\n",
       "    .dataframe tbody tr th {\n",
       "        vertical-align: top;\n",
       "    }\n",
       "\n",
       "    .dataframe thead th {\n",
       "        text-align: right;\n",
       "    }\n",
       "</style>\n",
       "<table border=\"1\" class=\"dataframe\">\n",
       "  <thead>\n",
       "    <tr style=\"text-align: right;\">\n",
       "      <th></th>\n",
       "      <th>keyword</th>\n",
       "      <th>shows</th>\n",
       "    </tr>\n",
       "  </thead>\n",
       "  <tbody>\n",
       "    <tr>\n",
       "      <th>0</th>\n",
       "      <td>вк</td>\n",
       "      <td>64292779</td>\n",
       "    </tr>\n",
       "    <tr>\n",
       "      <th>1</th>\n",
       "      <td>одноклассники</td>\n",
       "      <td>63810309</td>\n",
       "    </tr>\n",
       "    <tr>\n",
       "      <th>2</th>\n",
       "      <td>порно</td>\n",
       "      <td>41747114</td>\n",
       "    </tr>\n",
       "    <tr>\n",
       "      <th>3</th>\n",
       "      <td>ютуб</td>\n",
       "      <td>39995567</td>\n",
       "    </tr>\n",
       "    <tr>\n",
       "      <th>4</th>\n",
       "      <td>вконтакте</td>\n",
       "      <td>21014195</td>\n",
       "    </tr>\n",
       "  </tbody>\n",
       "</table>\n",
       "</div>"
      ],
      "text/plain": [
       "         keyword     shows\n",
       "0             вк  64292779\n",
       "1  одноклассники  63810309\n",
       "2          порно  41747114\n",
       "3           ютуб  39995567\n",
       "4      вконтакте  21014195"
      ]
     },
     "execution_count": 2,
     "metadata": {},
     "output_type": "execute_result"
    }
   ],
   "source": [
    "df = pd.read_csv('keywords.csv')\n",
    "df.head()"
   ]
  },
  {
   "cell_type": "code",
   "execution_count": 3,
   "metadata": {},
   "outputs": [],
   "source": [
    "con = sqlite3.connect('keywords.db')"
   ]
  },
  {
   "cell_type": "code",
   "execution_count": 4,
   "metadata": {},
   "outputs": [],
   "source": [
    "df.to_sql('keywords', con, if_exists='replace')"
   ]
  },
  {
   "cell_type": "code",
   "execution_count": 5,
   "metadata": {},
   "outputs": [],
   "source": [
    "con.close()"
   ]
  },
  {
   "cell_type": "markdown",
   "metadata": {},
   "source": [
    "Чтение из базы"
   ]
  },
  {
   "cell_type": "code",
   "execution_count": 6,
   "metadata": {},
   "outputs": [],
   "source": [
    "con = sqlite3.connect('keywords.db')"
   ]
  },
  {
   "cell_type": "code",
   "execution_count": 7,
   "metadata": {},
   "outputs": [
    {
     "data": {
      "text/html": [
       "<div>\n",
       "<style scoped>\n",
       "    .dataframe tbody tr th:only-of-type {\n",
       "        vertical-align: middle;\n",
       "    }\n",
       "\n",
       "    .dataframe tbody tr th {\n",
       "        vertical-align: top;\n",
       "    }\n",
       "\n",
       "    .dataframe thead th {\n",
       "        text-align: right;\n",
       "    }\n",
       "</style>\n",
       "<table border=\"1\" class=\"dataframe\">\n",
       "  <thead>\n",
       "    <tr style=\"text-align: right;\">\n",
       "      <th></th>\n",
       "      <th>index</th>\n",
       "      <th>keyword</th>\n",
       "      <th>shows</th>\n",
       "    </tr>\n",
       "  </thead>\n",
       "  <tbody>\n",
       "    <tr>\n",
       "      <th>0</th>\n",
       "      <td>4</td>\n",
       "      <td>вконтакте</td>\n",
       "      <td>21014195</td>\n",
       "    </tr>\n",
       "    <tr>\n",
       "      <th>1</th>\n",
       "      <td>14</td>\n",
       "      <td>вконтакте моя страница</td>\n",
       "      <td>5971451</td>\n",
       "    </tr>\n",
       "    <tr>\n",
       "      <th>2</th>\n",
       "      <td>317</td>\n",
       "      <td>вконтакте вход на страницу</td>\n",
       "      <td>488442</td>\n",
       "    </tr>\n",
       "    <tr>\n",
       "      <th>3</th>\n",
       "      <td>530</td>\n",
       "      <td>моя страница вконтакте</td>\n",
       "      <td>5971451</td>\n",
       "    </tr>\n",
       "    <tr>\n",
       "      <th>4</th>\n",
       "      <td>896</td>\n",
       "      <td>вконтакте социальная сеть</td>\n",
       "      <td>202480</td>\n",
       "    </tr>\n",
       "    <tr>\n",
       "      <th>...</th>\n",
       "      <td>...</td>\n",
       "      <td>...</td>\n",
       "      <td>...</td>\n",
       "    </tr>\n",
       "    <tr>\n",
       "      <th>84</th>\n",
       "      <td>96819</td>\n",
       "      <td>оренбург онлайн вконтакте</td>\n",
       "      <td>3894</td>\n",
       "    </tr>\n",
       "    <tr>\n",
       "      <th>85</th>\n",
       "      <td>97029</td>\n",
       "      <td>раскрутка групп в вконтакте</td>\n",
       "      <td>3782</td>\n",
       "    </tr>\n",
       "    <tr>\n",
       "      <th>86</th>\n",
       "      <td>98809</td>\n",
       "      <td>весь арзамас вконтакте</td>\n",
       "      <td>3623</td>\n",
       "    </tr>\n",
       "    <tr>\n",
       "      <th>87</th>\n",
       "      <td>99696</td>\n",
       "      <td>моя страница вконтакте одноклассники</td>\n",
       "      <td>16548</td>\n",
       "    </tr>\n",
       "    <tr>\n",
       "      <th>88</th>\n",
       "      <td>99703</td>\n",
       "      <td>вк вконтакте</td>\n",
       "      <td>4766</td>\n",
       "    </tr>\n",
       "  </tbody>\n",
       "</table>\n",
       "<p>89 rows × 3 columns</p>\n",
       "</div>"
      ],
      "text/plain": [
       "    index                               keyword     shows\n",
       "0       4                             вконтакте  21014195\n",
       "1      14                вконтакте моя страница   5971451\n",
       "2     317            вконтакте вход на страницу    488442\n",
       "3     530                моя страница вконтакте   5971451\n",
       "4     896             вконтакте социальная сеть    202480\n",
       "..    ...                                   ...       ...\n",
       "84  96819             оренбург онлайн вконтакте      3894\n",
       "85  97029           раскрутка групп в вконтакте      3782\n",
       "86  98809                весь арзамас вконтакте      3623\n",
       "87  99696  моя страница вконтакте одноклассники     16548\n",
       "88  99703                          вк вконтакте      4766\n",
       "\n",
       "[89 rows x 3 columns]"
      ]
     },
     "execution_count": 7,
     "metadata": {},
     "output_type": "execute_result"
    }
   ],
   "source": [
    "df_sql = pd.read_sql('select * from keywords where keyword like \"%вконтакте%\";', con)\n",
    "df_sql"
   ]
  },
  {
   "cell_type": "markdown",
   "metadata": {},
   "source": [
    "Построчная обработка"
   ]
  },
  {
   "cell_type": "code",
   "execution_count": 8,
   "metadata": {},
   "outputs": [],
   "source": [
    "cur = con.cursor()"
   ]
  },
  {
   "cell_type": "code",
   "execution_count": 9,
   "metadata": {},
   "outputs": [
    {
     "data": {
      "text/plain": [
       "<sqlite3.Cursor at 0x12453da40>"
      ]
     },
     "execution_count": 9,
     "metadata": {},
     "output_type": "execute_result"
    }
   ],
   "source": [
    "cur.execute('select * from keywords where keyword like \"%вконтакте%\";')"
   ]
  },
  {
   "cell_type": "code",
   "execution_count": 10,
   "metadata": {
    "scrolled": true
   },
   "outputs": [
    {
     "data": {
      "text/plain": [
       "(4, 'вконтакте', 21014195)"
      ]
     },
     "execution_count": 10,
     "metadata": {},
     "output_type": "execute_result"
    }
   ],
   "source": [
    "line = cur.fetchone()\n",
    "line"
   ]
  },
  {
   "cell_type": "code",
   "execution_count": 11,
   "metadata": {},
   "outputs": [
    {
     "data": {
      "text/plain": [
       "(14, 'вконтакте моя страница', 5971451)"
      ]
     },
     "execution_count": 11,
     "metadata": {},
     "output_type": "execute_result"
    }
   ],
   "source": [
    "another_line = cur.fetchone()\n",
    "another_line"
   ]
  },
  {
   "cell_type": "code",
   "execution_count": 12,
   "metadata": {},
   "outputs": [
    {
     "name": "stdout",
     "output_type": "stream",
     "text": [
      "(4, 'вконтакте', 21014195)\n",
      "(14, 'вконтакте моя страница', 5971451)\n",
      "(317, 'вконтакте вход на страницу', 488442)\n",
      "(530, 'моя страница вконтакте', 5971451)\n",
      "(896, 'вконтакте социальная сеть', 202480)\n",
      "(1003, 'вконтакте вход', 190587)\n",
      "(1093, 'вконтакте моя', 173001)\n"
     ]
    }
   ],
   "source": [
    "for i, line in enumerate(cur.execute('select * from keywords where keyword like \"%вконтакте%\";')):\n",
    "    print(line)\n",
    "    \n",
    "    if i > 5:\n",
    "        break"
   ]
  },
  {
   "cell_type": "code",
   "execution_count": null,
   "metadata": {},
   "outputs": [],
   "source": []
  },
  {
   "cell_type": "markdown",
   "metadata": {},
   "source": [
    "# Выполнение в несколько потоков"
   ]
  },
  {
   "cell_type": "code",
   "execution_count": 13,
   "metadata": {},
   "outputs": [],
   "source": [
    "from multiprocessing import Pool, current_process"
   ]
  },
  {
   "cell_type": "markdown",
   "metadata": {},
   "source": [
    "### Пример работы с Pool"
   ]
  },
  {
   "cell_type": "code",
   "execution_count": 14,
   "metadata": {},
   "outputs": [],
   "source": [
    "import time"
   ]
  },
  {
   "cell_type": "code",
   "execution_count": 15,
   "metadata": {},
   "outputs": [],
   "source": [
    "def process_step(step):\n",
    "    print('Начинаю шаг {}, worker {}'.format(step, current_process()))\n",
    "    time.sleep(1)\n",
    "    print('Закончил шаг {}'.format(step))"
   ]
  },
  {
   "cell_type": "code",
   "execution_count": 16,
   "metadata": {},
   "outputs": [
    {
     "name": "stdout",
     "output_type": "stream",
     "text": [
      "Начинаю шаг 0, worker <_MainProcess(MainProcess, started)>\n",
      "Закончил шаг 0\n",
      "Начинаю шаг 1, worker <_MainProcess(MainProcess, started)>\n",
      "Закончил шаг 1\n",
      "Начинаю шаг 2, worker <_MainProcess(MainProcess, started)>\n",
      "Закончил шаг 2\n",
      "Начинаю шаг 3, worker <_MainProcess(MainProcess, started)>\n",
      "Закончил шаг 3\n",
      "Начинаю шаг 4, worker <_MainProcess(MainProcess, started)>\n",
      "Закончил шаг 4\n",
      "Начинаю шаг 5, worker <_MainProcess(MainProcess, started)>\n",
      "Закончил шаг 5\n",
      "Начинаю шаг 6, worker <_MainProcess(MainProcess, started)>\n",
      "Закончил шаг 6\n",
      "Начинаю шаг 7, worker <_MainProcess(MainProcess, started)>\n",
      "Закончил шаг 7\n",
      "Начинаю шаг 8, worker <_MainProcess(MainProcess, started)>\n",
      "Закончил шаг 8\n",
      "Начинаю шаг 9, worker <_MainProcess(MainProcess, started)>\n",
      "Закончил шаг 9\n",
      "CPU times: user 12.6 ms, sys: 4.59 ms, total: 17.2 ms\n",
      "Wall time: 10 s\n"
     ]
    }
   ],
   "source": [
    "%%time\n",
    "for step in range(10):\n",
    "    process_step(step)"
   ]
  },
  {
   "cell_type": "code",
   "execution_count": 17,
   "metadata": {
    "scrolled": true
   },
   "outputs": [
    {
     "name": "stdout",
     "output_type": "stream",
     "text": [
      "Начинаю шаг 0, worker <ForkProcess(ForkPoolWorker-1, started daemon)>\n",
      "Начинаю шаг 2, worker <ForkProcess(ForkPoolWorker-3, started daemon)>\n",
      "Начинаю шаг 1, worker <ForkProcess(ForkPoolWorker-2, started daemon)>\n",
      "Начинаю шаг 3, worker <ForkProcess(ForkPoolWorker-4, started daemon)>\n",
      "Начинаю шаг 4, worker <ForkProcess(ForkPoolWorker-5, started daemon)>\n",
      "Начинаю шаг 5, worker <ForkProcess(ForkPoolWorker-6, started daemon)>\n",
      "Начинаю шаг 7, worker <ForkProcess(ForkPoolWorker-8, started daemon)>\n",
      "Начинаю шаг 6, worker <ForkProcess(ForkPoolWorker-7, started daemon)>\n",
      "Начинаю шаг 8, worker <ForkProcess(ForkPoolWorker-9, started daemon)>\n",
      "Начинаю шаг 9, worker <ForkProcess(ForkPoolWorker-10, started daemon)>\n",
      "Закончил шаг 1\n",
      "Закончил шаг 3\n",
      "Закончил шаг 2\n",
      "Закончил шаг 0\n",
      "Закончил шаг 4\n",
      "Закончил шаг 6\n",
      "Закончил шаг 5\n",
      "Закончил шаг 8\n",
      "Закончил шаг 9\n",
      "Закончил шаг 7\n",
      "CPU times: user 26.7 ms, sys: 40.9 ms, total: 67.6 ms\n",
      "Wall time: 1.22 s\n"
     ]
    }
   ],
   "source": [
    "%%time\n",
    "with Pool(processes=10) as p:\n",
    "    p.map(process_step, range(10))"
   ]
  },
  {
   "cell_type": "markdown",
   "metadata": {},
   "source": [
    "### Стемминг через Pool"
   ]
  },
  {
   "cell_type": "code",
   "execution_count": 18,
   "metadata": {},
   "outputs": [],
   "source": [
    "import time\n",
    "from nltk.stem.snowball import SnowballStemmer"
   ]
  },
  {
   "cell_type": "code",
   "execution_count": 19,
   "metadata": {},
   "outputs": [],
   "source": [
    "def process_line(line):\n",
    "    keyword, shows = line.strip().split(',')\n",
    "    return [stemmer.stem(word) for word in keyword.split(' ')]"
   ]
  },
  {
   "cell_type": "code",
   "execution_count": 20,
   "metadata": {
    "scrolled": false
   },
   "outputs": [
    {
     "name": "stdout",
     "output_type": "stream",
     "text": [
      "CPU times: user 16.7 s, sys: 196 ms, total: 16.9 s\n",
      "Wall time: 19.3 s\n"
     ]
    },
    {
     "data": {
      "text/plain": [
       "[['keyword'],\n",
       " ['вк'],\n",
       " ['одноклассник'],\n",
       " ['порн'],\n",
       " ['ютуб'],\n",
       " ['вконтакт'],\n",
       " ['одноклассник', 'мо', 'страниц'],\n",
       " ['майл'],\n",
       " ['авит'],\n",
       " ['переводчик']]"
      ]
     },
     "execution_count": 20,
     "metadata": {},
     "output_type": "execute_result"
    }
   ],
   "source": [
    "%%time\n",
    "stemmer = SnowballStemmer(\"russian\")\n",
    "result = []\n",
    "\n",
    "with open('keywords.csv') as f:\n",
    "    result = [process_line(line) for line in f]\n",
    "        \n",
    "result[:10]"
   ]
  },
  {
   "cell_type": "code",
   "execution_count": 21,
   "metadata": {
    "scrolled": false
   },
   "outputs": [
    {
     "name": "stdout",
     "output_type": "stream",
     "text": [
      "CPU times: user 290 ms, sys: 114 ms, total: 405 ms\n",
      "Wall time: 10.8 s\n"
     ]
    },
    {
     "data": {
      "text/plain": [
       "[['keyword'],\n",
       " ['вк'],\n",
       " ['одноклассник'],\n",
       " ['порн'],\n",
       " ['ютуб'],\n",
       " ['вконтакт'],\n",
       " ['одноклассник', 'мо', 'страниц'],\n",
       " ['майл'],\n",
       " ['авит'],\n",
       " ['переводчик']]"
      ]
     },
     "execution_count": 21,
     "metadata": {},
     "output_type": "execute_result"
    }
   ],
   "source": [
    "%%time\n",
    "f = open('keywords.csv')\n",
    "stemmer = SnowballStemmer(\"russian\")\n",
    "\n",
    "with Pool(5) as p:\n",
    "    result = p.map(process_line, f)\n",
    "    \n",
    "result[:10]"
   ]
  },
  {
   "cell_type": "markdown",
   "metadata": {},
   "source": [
    "# Сложные объединения\n",
    "Необходимо объединить таблицы left_table и right_table с учетом условий:\n",
    "- если числовое значение из right_table укладывается в интервал из left_table, то добавляем столбец из right_table\n",
    "- если значение из right_table вне интервала из left_table, но меньше 200, то подставить 0\n",
    "- если значение из right_table больше 200 или нет соответствия, то исключить строчку из результата полностью\n",
    "- таблица right_table влазит в RAM, левая - нет"
   ]
  },
  {
   "cell_type": "code",
   "execution_count": 22,
   "metadata": {},
   "outputs": [],
   "source": [
    "left_table = [\n",
    "    ['a', 10, 20],\n",
    "    ['b', 30, 40],\n",
    "    ['c', 50, 60],\n",
    "]"
   ]
  },
  {
   "cell_type": "code",
   "execution_count": 23,
   "metadata": {},
   "outputs": [],
   "source": [
    "right_table = [\n",
    "    ['a', 15],\n",
    "    ['b', 100],\n",
    "    ['c', 300],\n",
    "]"
   ]
  },
  {
   "cell_type": "code",
   "execution_count": 24,
   "metadata": {},
   "outputs": [
    {
     "data": {
      "text/plain": [
       "{'a': 15, 'b': 100, 'c': 300}"
      ]
     },
     "execution_count": 24,
     "metadata": {},
     "output_type": "execute_result"
    }
   ],
   "source": [
    "right_dict = {rec[0]: rec[1] for rec in right_table}\n",
    "right_dict"
   ]
  },
  {
   "cell_type": "code",
   "execution_count": 25,
   "metadata": {},
   "outputs": [],
   "source": [
    "def apply_rules(left_table_line):\n",
    "    key, left_border, right_border = left_table_line\n",
    "    \n",
    "    # условие 3 (если есть соответствие)\n",
    "    if key in right_dict:\n",
    "        value_from_right_table = right_dict[key]\n",
    "        \n",
    "        # условие 3 (если значение < 200)\n",
    "        if value_from_right_table < 200:\n",
    "            if left_border < value_from_right_table < right_border:\n",
    "                return value_from_right_table\n",
    "            else:\n",
    "                return 0"
   ]
  },
  {
   "cell_type": "code",
   "execution_count": 26,
   "metadata": {
    "scrolled": false
   },
   "outputs": [
    {
     "name": "stdout",
     "output_type": "stream",
     "text": [
      "['a', 10, 20, 15]\n",
      "['b', 30, 40, 0]\n"
     ]
    }
   ],
   "source": [
    "for line in left_table:\n",
    "    right_value = apply_rules(line)\n",
    "    if right_value is not None:\n",
    "        line.append(right_value)\n",
    "        print(line)"
   ]
  }
 ],
 "metadata": {
  "kernelspec": {
   "display_name": "Python 3",
   "language": "python",
   "name": "python3"
  },
  "language_info": {
   "codemirror_mode": {
    "name": "ipython",
    "version": 3
   },
   "file_extension": ".py",
   "mimetype": "text/x-python",
   "name": "python",
   "nbconvert_exporter": "python",
   "pygments_lexer": "ipython3",
   "version": "3.7.0"
  }
 },
 "nbformat": 4,
 "nbformat_minor": 2
}
