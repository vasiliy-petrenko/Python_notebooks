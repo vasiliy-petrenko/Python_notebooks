{
 "cells": [
  {
   "cell_type": "markdown",
   "metadata": {},
   "source": [
    "# Используем \"флаг\" для изменения статуса исполнения"
   ]
  },
  {
   "cell_type": "code",
   "execution_count": 1,
   "metadata": {},
   "outputs": [],
   "source": [
    "stats = [\n",
    "    ['2018-01-01', 'google', 25],\n",
    "    ['2018-01-01', 'yandex', 65],\n",
    "    ['2018-01-01', 'market', 89],\n",
    "    ['2018-01-02', 'google', 574],\n",
    "    ['2018-01-02', 'yandex', 249],\n",
    "    ['2018-01-02', 'market', 994],\n",
    "    ['2018-01-03', 'google', 1843],\n",
    "    ['2018-01-03', 'yandex', 1327],\n",
    "    ['2018-01-03', 'market', 1764],\n",
    "]"
   ]
  },
  {
   "cell_type": "code",
   "execution_count": 2,
   "metadata": {},
   "outputs": [],
   "source": [
    "date = 'екоеко'\n",
    "campaign = 'jtrfjrtjrtj'"
   ]
  },
  {
   "cell_type": "code",
   "execution_count": 3,
   "metadata": {},
   "outputs": [
    {
     "name": "stdout",
     "output_type": "stream",
     "text": [
      "Нет данных\n"
     ]
    }
   ],
   "source": [
    "flag = 0\n",
    "\n",
    "for stat in stats:\n",
    "    if stat[0] == date and stat[1] == campaign:\n",
    "        print(stat[2])\n",
    "        flag = 1\n",
    "        \n",
    "if flag == 0:\n",
    "    print('Нет данных')"
   ]
  },
  {
   "cell_type": "markdown",
   "metadata": {},
   "source": [
    "# Про f-строки\n",
    "https://habr.com/ru/post/462179/"
   ]
  },
  {
   "cell_type": "markdown",
   "metadata": {},
   "source": [
    "# Что будет, если преобразовать во множество список со вложенными списками?"
   ]
  },
  {
   "cell_type": "code",
   "execution_count": 4,
   "metadata": {},
   "outputs": [],
   "source": [
    "income_by_months = [['Jan', 13000], ['Feb', 14000], ['Mar', 14300], ['Apr', 15000], ['May', 13800], ['Jun', 13000], ['Jul', 14900], ['Aug', 15200], ['Sep', 15300]]\n",
    "month_list = ['Jan', 'Feb', 'Mar', 'Apr', 'May', 'Jun', 'Jul', 'Aug', 'Sep', 'Aug']\n"
   ]
  },
  {
   "cell_type": "code",
   "execution_count": 5,
   "metadata": {},
   "outputs": [
    {
     "ename": "TypeError",
     "evalue": "unhashable type: 'list'",
     "output_type": "error",
     "traceback": [
      "\u001b[1;31m---------------------------------------------------------------------------\u001b[0m",
      "\u001b[1;31mTypeError\u001b[0m                                 Traceback (most recent call last)",
      "\u001b[1;32m<ipython-input-5-da86ba08c0d5>\u001b[0m in \u001b[0;36m<module>\u001b[1;34m\u001b[0m\n\u001b[1;32m----> 1\u001b[1;33m \u001b[0mset\u001b[0m\u001b[1;33m(\u001b[0m\u001b[0mincome_by_months\u001b[0m\u001b[1;33m)\u001b[0m\u001b[1;33m\u001b[0m\u001b[1;33m\u001b[0m\u001b[0m\n\u001b[0m",
      "\u001b[1;31mTypeError\u001b[0m: unhashable type: 'list'"
     ]
    }
   ],
   "source": [
    "set(income_by_months)"
   ]
  },
  {
   "cell_type": "code",
   "execution_count": 6,
   "metadata": {},
   "outputs": [
    {
     "data": {
      "text/plain": [
       "['Jan',\n",
       " 13000,\n",
       " 'Feb',\n",
       " 14000,\n",
       " 'Mar',\n",
       " 14300,\n",
       " 'Apr',\n",
       " 15000,\n",
       " 'May',\n",
       " 13800,\n",
       " 'Jun',\n",
       " 13000,\n",
       " 'Jul',\n",
       " 14900,\n",
       " 'Aug',\n",
       " 15200,\n",
       " 'Sep',\n",
       " 15300]"
      ]
     },
     "execution_count": 6,
     "metadata": {},
     "output_type": "execute_result"
    }
   ],
   "source": [
    "income_by_months = [['Jan', 13000], ['Feb', 14000], ['Mar', 14300], ['Apr', 15000], ['May', 13800], ['Jun', 13000], ['Jul', 14900], ['Aug', 15200], ['Sep', 15300]]\n",
    "\n",
    "res = sum(income_by_months, [])\n",
    "res"
   ]
  },
  {
   "cell_type": "markdown",
   "metadata": {},
   "source": [
    "# Есть ли у множества индексы? можно ли по ним итерироваться?"
   ]
  },
  {
   "cell_type": "code",
   "execution_count": 7,
   "metadata": {},
   "outputs": [
    {
     "name": "stdout",
     "output_type": "stream",
     "text": [
      "SAS\n",
      "Git\n",
      "SQL\n",
      "Python\n",
      "R\n",
      "Tableau\n"
     ]
    }
   ],
   "source": [
    "data_scientist_skills = set(['Python', 'R', 'SQL', 'Tableau', 'SAS', 'Git'])\n",
    "\n",
    "# data_scientist_skills[0]\n",
    "\n",
    "for skill in data_scientist_skills:\n",
    "    print(skill)"
   ]
  },
  {
   "cell_type": "markdown",
   "metadata": {},
   "source": [
    "# Распаковка элементов прямо в цикле"
   ]
  },
  {
   "cell_type": "code",
   "execution_count": 8,
   "metadata": {},
   "outputs": [
    {
     "name": "stdout",
     "output_type": "stream",
     "text": [
      "Orange\n",
      "100000000\n",
      "20000\n"
     ]
    }
   ],
   "source": [
    "company_tuple = ('Orange', 100000000, 20000)\n",
    "company_name, capitalization, personal = company_tuple\n",
    "print(company_name)\n",
    "print(capitalization)\n",
    "print(personal)"
   ]
  },
  {
   "cell_type": "code",
   "execution_count": 18,
   "metadata": {},
   "outputs": [
    {
     "name": "stdout",
     "output_type": "stream",
     "text": [
      "1.3\n",
      "20000\n",
      "Orange\n",
      "1.5\n",
      "40000\n",
      "Maxisoft\n",
      "0.8\n",
      "15000\n",
      "Headbook\n",
      "2.2\n",
      "18000\n",
      "Nicola\n"
     ]
    }
   ],
   "source": [
    "companies_info = [\n",
    "    ['Orange', 1.3, 20000, 12, 214],\n",
    "    ['Maxisoft', 1.5, 40000, 214, 12],\n",
    "    ['Headbook', 0.8, 15000, 214, 2154],\n",
    "    ['Nicola', 2.2, 18000, 124, 15]\n",
    "]\n",
    "\n",
    "for company in companies_info:\n",
    "    print(company[1])\n",
    "    print(company[2])\n",
    "    print(company[0])"
   ]
  },
  {
   "cell_type": "code",
   "execution_count": 19,
   "metadata": {},
   "outputs": [],
   "source": [
    "cook_book = {'салат': [ {'ingridient_name': 'сыр', 'quantity': 50, 'measure': 'гр'}, \n",
    "                       {'ingridient_name': 'томаты', 'quantity': 20, 'measure': 'гр'}, \n",
    "                       {'ingridient_name': 'огурцы', 'quantity': 20, 'measure': 'гр'}, \n",
    "                       {'ingridient_name': 'маслины', 'quantity': 10, 'measure': 'гр'}, \n",
    "                       {'ingridient_name': 'оливковое масло', 'quantity': 20, 'measure': 'мл'}, \n",
    "                       {'ingridient_name': 'салат', 'quantity': 10, 'measure': 'гр'}, \n",
    "                       {'ingridient_name': 'перец', 'quantity': 20, 'measure': 'гр'} ], \n",
    "             'пицца': [ {'ingridient_name': 'сыр', 'quantity': 20, 'measure': 'гр'}, \n",
    "                       {'ingridient_name': 'колбаса', 'quantity': 30, 'measure': 'гр'}, \n",
    "                       {'ingridient_name': 'бекон', 'quantity': 30, 'measure': 'гр'}, \n",
    "                       {'ingridient_name': 'оливки', 'quantity': 10, 'measure': 'гр'}, \n",
    "                       {'ingridient_name': 'томаты', 'quantity': 20, 'measure': 'гр'}, \n",
    "                       {'ingridient_name': 'тесто', 'quantity': 100, 'measure': 'гр'}, ], \n",
    "             'лимонад': [ {'ingridient_name': 'лимон', 'quantity': 1, 'measure': 'шт'}, \n",
    "                         {'ingridient_name': 'вода', 'quantity': 200, 'measure': 'мл'}, \n",
    "                         {'ingridient_name': 'сахар', 'quantity': 10, 'measure': 'гр'}, \n",
    "                         {'ingridient_name': 'лайм', 'quantity': 20, 'measure': 'гр'}, ] \n",
    "            }"
   ]
  },
  {
   "cell_type": "code",
   "execution_count": 20,
   "metadata": {},
   "outputs": [
    {
     "data": {
      "text/plain": [
       "[{'ingridient_name': 'сыр', 'quantity': 20, 'measure': 'гр'},\n",
       " {'ingridient_name': 'колбаса', 'quantity': 30, 'measure': 'гр'},\n",
       " {'ingridient_name': 'бекон', 'quantity': 30, 'measure': 'гр'},\n",
       " {'ingridient_name': 'оливки', 'quantity': 10, 'measure': 'гр'},\n",
       " {'ingridient_name': 'томаты', 'quantity': 20, 'measure': 'гр'},\n",
       " {'ingridient_name': 'тесто', 'quantity': 100, 'measure': 'гр'}]"
      ]
     },
     "execution_count": 20,
     "metadata": {},
     "output_type": "execute_result"
    }
   ],
   "source": [
    "cook_book['пицца']"
   ]
  },
  {
   "cell_type": "code",
   "execution_count": 26,
   "metadata": {},
   "outputs": [],
   "source": [
    "my_res = cook_book['пицца'][3]['ingridient_name']"
   ]
  },
  {
   "cell_type": "code",
   "execution_count": 34,
   "metadata": {},
   "outputs": [
    {
     "name": "stdout",
     "output_type": "stream",
     "text": [
      "салат\n",
      "сыр 50 гр\n",
      "томаты 20 гр\n",
      "огурцы 20 гр\n",
      "маслины 10 гр\n",
      "оливковое масло 20 мл\n",
      "салат 10 гр\n",
      "перец 20 гр\n",
      "пицца\n",
      "сыр 20 гр\n",
      "колбаса 30 гр\n",
      "бекон 30 гр\n",
      "оливки 10 гр\n",
      "томаты 20 гр\n",
      "тесто 100 гр\n",
      "лимонад\n",
      "лимон 1 шт\n",
      "вода 200 мл\n",
      "сахар 10 гр\n",
      "лайм 20 гр\n"
     ]
    }
   ],
   "source": [
    "for dish, igr in cook_book.items():\n",
    "    print(dish)\n",
    "#     print(igr)\n",
    "    for el in igr:\n",
    "        print(f'{el[\"ingridient_name\"]} {el[\"quantity\"]} {el[\"measure\"]}')"
   ]
  },
  {
   "cell_type": "markdown",
   "metadata": {},
   "source": [
    "# Практика. Решим задачу с диагональной матрицей при помощи list comprehension"
   ]
  },
  {
   "cell_type": "code",
   "execution_count": 38,
   "metadata": {},
   "outputs": [
    {
     "name": "stdout",
     "output_type": "stream",
     "text": [
      "0\n",
      "[13, 25, 23, 34]\n",
      "1\n",
      "[45, 32, 44, 47]\n",
      "2\n",
      "[12, 33, 23, 95]\n",
      "3\n",
      "[13, 53, 34, 35]\n"
     ]
    }
   ],
   "source": [
    "data = [\n",
    "    [13, 25, 23, 34],\n",
    "    [45, 32, 44, 47],\n",
    "    [12, 33, 23, 95],\n",
    "    [13, 53, 34, 35]\n",
    "]\n",
    "\n",
    "for i, r in enumerate(data):\n",
    "    print(i)\n",
    "    print(r)\n"
   ]
  },
  {
   "cell_type": "code",
   "execution_count": 41,
   "metadata": {},
   "outputs": [
    {
     "data": {
      "text/plain": [
       "103"
      ]
     },
     "execution_count": 41,
     "metadata": {},
     "output_type": "execute_result"
    }
   ],
   "source": [
    "sum([row[index] for index, row in enumerate(data)])"
   ]
  },
  {
   "cell_type": "markdown",
   "metadata": {},
   "source": [
    "# ссылки про enumerate\n",
    "https://habr.com/ru/company/ruvds/blog/485648/  \n",
    "https://all-python.ru/osnovy/enumerate.html"
   ]
  },
  {
   "cell_type": "markdown",
   "metadata": {},
   "source": [
    "# Практика\n",
    "\n",
    "Сформируйте словарь, ключами в котором будут числа от 1 до 20, а значениями - квадраты этих чисел"
   ]
  },
  {
   "cell_type": "code",
   "execution_count": 43,
   "metadata": {},
   "outputs": [
    {
     "data": {
      "text/plain": [
       "{1: 1,\n",
       " 2: 4,\n",
       " 3: 9,\n",
       " 4: 16,\n",
       " 5: 25,\n",
       " 6: 36,\n",
       " 7: 49,\n",
       " 8: 64,\n",
       " 9: 81,\n",
       " 10: 100,\n",
       " 11: 121,\n",
       " 12: 144,\n",
       " 13: 169,\n",
       " 14: 196,\n",
       " 15: 225,\n",
       " 16: 256,\n",
       " 17: 289,\n",
       " 18: 324,\n",
       " 19: 361,\n",
       " 20: 400}"
      ]
     },
     "execution_count": 43,
     "metadata": {},
     "output_type": "execute_result"
    }
   ],
   "source": [
    "my_dict = {}\n",
    "for num in range(1, 21):\n",
    "    my_dict[num] = num ** 2\n",
    "\n",
    "my_dict"
   ]
  },
  {
   "cell_type": "code",
   "execution_count": 44,
   "metadata": {},
   "outputs": [
    {
     "data": {
      "text/plain": [
       "{1: 1,\n",
       " 2: 4,\n",
       " 3: 9,\n",
       " 4: 16,\n",
       " 5: 25,\n",
       " 6: 36,\n",
       " 7: 49,\n",
       " 8: 64,\n",
       " 9: 81,\n",
       " 10: 100,\n",
       " 11: 121,\n",
       " 12: 144,\n",
       " 13: 169,\n",
       " 14: 196,\n",
       " 15: 225,\n",
       " 16: 256,\n",
       " 17: 289,\n",
       " 18: 324,\n",
       " 19: 361,\n",
       " 20: 400}"
      ]
     },
     "execution_count": 44,
     "metadata": {},
     "output_type": "execute_result"
    }
   ],
   "source": [
    "{num: num**2 for num in range(1, 21)}"
   ]
  },
  {
   "cell_type": "markdown",
   "metadata": {},
   "source": [
    "# Практика\n",
    "\n",
    "Удалим из словаря все пустые элементы (со значением None)"
   ]
  },
  {
   "cell_type": "code",
   "execution_count": 46,
   "metadata": {},
   "outputs": [],
   "source": [
    "my_dict = {\n",
    "    'id1': 123456, \n",
    "    'id2': 654321, \n",
    "    'id3': None,\n",
    "    'id4': 777777\n",
    "}"
   ]
  },
  {
   "cell_type": "code",
   "execution_count": 48,
   "metadata": {},
   "outputs": [
    {
     "data": {
      "text/plain": [
       "{'id1': 123456, 'id2': 654321, 'id4': 777777}"
      ]
     },
     "execution_count": 48,
     "metadata": {},
     "output_type": "execute_result"
    }
   ],
   "source": [
    "dictionary = {}\n",
    "for key, value in my_dict.items():\n",
    "    if value is not None:\n",
    "        dictionary[key] = value\n",
    "        \n",
    "dictionary"
   ]
  },
  {
   "cell_type": "code",
   "execution_count": 49,
   "metadata": {},
   "outputs": [
    {
     "data": {
      "text/plain": [
       "{'id1': 123456, 'id2': 654321, 'id4': 777777}"
      ]
     },
     "execution_count": 49,
     "metadata": {},
     "output_type": "execute_result"
    }
   ],
   "source": [
    "{key:value for key, value in my_dict.items() if value is not None}"
   ]
  },
  {
   "cell_type": "markdown",
   "metadata": {},
   "source": [
    "# Практика. Посчитайте сколько раз каждое слово встречалось в тексте \n",
    "Вывести в формате: \"слово\": \"количество вхождений\"\n",
    "\n",
    "За разделитель считаем пробел, все слова приводим к нижнему регистру"
   ]
  },
  {
   "cell_type": "code",
   "execution_count": 50,
   "metadata": {},
   "outputs": [],
   "source": [
    "some_oxy_text = '''\n",
    "Весь мой рэп, если коротко, про то, что\n",
    "Уж который год который город под подошвой\n",
    "В гору, когда прет. Потом под гору, когда тошно\n",
    "Я не то, что Гулливер, но все же город под подошвой\n",
    "Город под подошвой, город под подошвой\n",
    "Светофоры, госпошлины, сборы и таможни\n",
    "Я не знаю, вброд или на дно эта дорожка\n",
    "Ты живешь под каблуком, у меня - город под подошвой\n",
    "'''"
   ]
  },
  {
   "cell_type": "code",
   "execution_count": 62,
   "metadata": {},
   "outputs": [
    {
     "name": "stdout",
     "output_type": "stream",
     "text": [
      "\n",
      "весь: 1\n",
      "мой: 1\n",
      "рэп,: 1\n",
      "если: 1\n",
      "коротко,: 1\n",
      "про: 1\n",
      "то,: 2\n",
      "что\n",
      "уж: 1\n",
      "который: 2\n",
      "год: 1\n",
      "город: 4\n",
      "под: 7\n",
      "подошвой\n",
      "в: 1\n",
      "гору,: 2\n",
      "когда: 2\n",
      "прет.: 1\n",
      "потом: 1\n",
      "тошно\n",
      "я: 1\n",
      "не: 2\n",
      "что: 1\n",
      "гулливер,: 1\n",
      "но: 1\n",
      "все: 1\n",
      "же: 1\n",
      "подошвой\n",
      "город: 1\n",
      "подошвой,: 1\n",
      "подошвой\n",
      "светофоры,: 1\n",
      "госпошлины,: 1\n",
      "сборы: 1\n",
      "и: 1\n",
      "таможни\n",
      "я: 1\n",
      "знаю,: 1\n",
      "вброд: 1\n",
      "или: 1\n",
      "на: 1\n",
      "дно: 1\n",
      "эта: 1\n",
      "дорожка\n",
      "ты: 1\n",
      "живешь: 1\n",
      "каблуком,: 1\n",
      "у: 1\n",
      "меня: 1\n",
      "-: 1\n",
      "подошвой\n",
      ": 1\n"
     ]
    }
   ],
   "source": [
    "res = {}\n",
    "\n",
    "some_splitted_oxy_text = some_oxy_text.split(' ')\n",
    "\n",
    "\n",
    "for word in some_splitted_oxy_text:\n",
    "    word = word.lower()\n",
    "    if word not in res:\n",
    "        res[word] = 1\n",
    "    else:\n",
    "        res[word] += 1\n",
    "for word, count in res.items():\n",
    "    print(f'{word}: {count}')"
   ]
  },
  {
   "cell_type": "code",
   "execution_count": 56,
   "metadata": {},
   "outputs": [],
   "source": [
    "my_dict = {}\n",
    "\n",
    "my_dict['some_key'] = 'some_value'\n",
    "my_dict['2'] = 2"
   ]
  },
  {
   "cell_type": "code",
   "execution_count": 58,
   "metadata": {},
   "outputs": [],
   "source": [
    "my_dict['2'] = 3"
   ]
  },
  {
   "cell_type": "code",
   "execution_count": 59,
   "metadata": {},
   "outputs": [
    {
     "data": {
      "text/plain": [
       "{'some_key': 'some_value', '2': 3}"
      ]
     },
     "execution_count": 59,
     "metadata": {},
     "output_type": "execute_result"
    }
   ],
   "source": [
    "my_dict"
   ]
  },
  {
   "cell_type": "markdown",
   "metadata": {},
   "source": [
    "# Практика\n",
    "\n",
    "Дан список с визитами по городам и странам. \n",
    "Напишите код, который возвращает отфильтрованный список geo_logs, содержащий только визиты из России.\n"
   ]
  },
  {
   "cell_type": "code",
   "execution_count": 84,
   "metadata": {},
   "outputs": [],
   "source": [
    "geo_logs = [\n",
    "    {'visit1': ['Москва', 'Россия']},\n",
    "    {'visit2': ['Дели', 'Индия']},\n",
    "    {'visit3': ['Владимир', 'Россия']},\n",
    "    {'visit4': ['Лиссабон', 'Португалия']},\n",
    "    {'visit5': ['Париж', 'Франция']},\n",
    "    {'visit6': ['Лиссабон', 'Португалия']},\n",
    "    {'visit8': ['Тула', 'Россия']}\n",
    "]"
   ]
  },
  {
   "cell_type": "code",
   "execution_count": 70,
   "metadata": {},
   "outputs": [
    {
     "data": {
      "text/plain": [
       "[{'visit1': ['Москва', 'Россия']},\n",
       " {'visit3': ['Владимир', 'Россия']},\n",
       " {'visit5': ['Париж', 'Франция']},\n",
       " {'visit8': ['Тула', 'Россия']}]"
      ]
     },
     "execution_count": 70,
     "metadata": {},
     "output_type": "execute_result"
    }
   ],
   "source": [
    "for log in geo_logs:\n",
    "#     print(log)\n",
    "    for i in log.values():\n",
    "#         print(i)\n",
    "        if i[1] != 'Россия':\n",
    "            geo_logs.remove(log)\n",
    "geo_logs"
   ]
  },
  {
   "cell_type": "code",
   "execution_count": 71,
   "metadata": {},
   "outputs": [
    {
     "data": {
      "text/plain": [
       "[{'visit1': ['Москва', 'Россия']},\n",
       " {'visit3': ['Владимир', 'Россия']},\n",
       " {'visit8': ['Тула', 'Россия']}]"
      ]
     },
     "execution_count": 71,
     "metadata": {},
     "output_type": "execute_result"
    }
   ],
   "source": [
    "res = []\n",
    "for log in geo_logs:\n",
    "    for i in log.values():\n",
    "    #         print(i)\n",
    "        if i[1] == 'Россия':\n",
    "            res.append(log)\n",
    "res"
   ]
  },
  {
   "cell_type": "code",
   "execution_count": 79,
   "metadata": {},
   "outputs": [
    {
     "data": {
      "text/plain": [
       "[{'visit1': ['Москва', 'Россия']},\n",
       " {'visit3': ['Владимир', 'Россия']},\n",
       " {'visit8': ['Тула', 'Россия']}]"
      ]
     },
     "execution_count": 79,
     "metadata": {},
     "output_type": "execute_result"
    }
   ],
   "source": [
    "res = []\n",
    "for log in geo_logs:\n",
    "    if list(log.values())[0][1] == 'Россия':\n",
    "        res.append(log)\n",
    "res"
   ]
  },
  {
   "cell_type": "code",
   "execution_count": 83,
   "metadata": {},
   "outputs": [
    {
     "data": {
      "text/plain": [
       "[{'visit1': ['Москва', 'Россия']},\n",
       " {'visit3': ['Владимир', 'Россия']},\n",
       " {'visit8': ['Тула', 'Россия']}]"
      ]
     },
     "execution_count": 83,
     "metadata": {},
     "output_type": "execute_result"
    }
   ],
   "source": [
    "geo_logs_2 = geo_logs.copy()\n",
    "# geo_logs_2 = geo_logs[:]\n",
    "\n",
    "for log in geo_logs_2:\n",
    "    if list(log.values())[0][1] != 'Россия':\n",
    "        geo_logs.remove(log)\n",
    "geo_logs"
   ]
  },
  {
   "cell_type": "code",
   "execution_count": 86,
   "metadata": {},
   "outputs": [
    {
     "data": {
      "text/plain": [
       "[{'visit1': ['Москва', 'Россия']},\n",
       " {'visit3': ['Владимир', 'Россия']},\n",
       " {'visit8': ['Тула', 'Россия']}]"
      ]
     },
     "execution_count": 86,
     "metadata": {},
     "output_type": "execute_result"
    }
   ],
   "source": [
    "list(filter(lambda log: 'Россия' == list(log.values())[0][1], geo_logs))"
   ]
  }
 ],
 "metadata": {
  "kernelspec": {
   "display_name": "Python 3.7.6 64-bit ('base': conda)",
   "language": "python",
   "name": "python37664bitbaseconda98ee28fd21e54513b617f25a4bc88d8a"
  },
  "language_info": {
   "codemirror_mode": {
    "name": "ipython",
    "version": 3
   },
   "file_extension": ".py",
   "mimetype": "text/x-python",
   "name": "python",
   "nbconvert_exporter": "python",
   "pygments_lexer": "ipython3",
   "version": "3.7.6"
  }
 },
 "nbformat": 4,
 "nbformat_minor": 4
}
