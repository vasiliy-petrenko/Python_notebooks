{
 "cells": [
  {
   "cell_type": "code",
   "execution_count": 10,
   "metadata": {},
   "outputs": [],
   "source": [
    "import re"
   ]
  },
  {
   "cell_type": "code",
   "execution_count": 11,
   "metadata": {},
   "outputs": [],
   "source": [
    "# найдем идентификаторы пользователей в тексте\n",
    "msg = 'В розыгрыше победили: id1234563, id4653, id46!'"
   ]
  },
  {
   "cell_type": "code",
   "execution_count": 12,
   "metadata": {},
   "outputs": [
    {
     "data": {
      "text/plain": [
       "['id1234563', 'id4653', 'id46']"
      ]
     },
     "execution_count": 12,
     "metadata": {},
     "output_type": "execute_result"
    }
   ],
   "source": [
    "re.findall(r'id\\d+', msg)"
   ]
  },
  {
   "cell_type": "code",
   "execution_count": 13,
   "metadata": {},
   "outputs": [],
   "source": [
    "# ПРАКТИКА. Найдем хэштеги в твите\n",
    "tweet = 'когда #эпидемия, то обязательно #оставайсядома'"
   ]
  },
  {
   "cell_type": "code",
   "execution_count": 14,
   "metadata": {},
   "outputs": [
    {
     "data": {
      "text/plain": [
       "['#эпидемия', '#оставайсядома']"
      ]
     },
     "execution_count": 14,
     "metadata": {},
     "output_type": "execute_result"
    }
   ],
   "source": [
    "re.findall(r'#\\w+', tweet)"
   ]
  },
  {
   "cell_type": "code",
   "execution_count": 16,
   "metadata": {},
   "outputs": [],
   "source": [
    "# посмотрим внимательнее, как работают quantifiers\n",
    "text = \"\"\"Что такое регулярные выражения и как их использовать? \n",
    "Говоря простым языком, регулярное выражение — это последовательность символов, используемая для поиска и замены текста в строке или файле. Как уже было упомянуто,\\\n",
    "их поддерживает множество языков общего назначения: Python, Perl, R.\n",
    "Так что изучение регулярных выражений рано или поздно пригодится.\"\"\""
   ]
  },
  {
   "cell_type": "code",
   "execution_count": 17,
   "metadata": {
    "scrolled": true
   },
   "outputs": [
    {
     "data": {
      "text/plain": [
       "['Что',\n",
       " 'такое',\n",
       " 'регулярные',\n",
       " 'выражения',\n",
       " 'и',\n",
       " 'как',\n",
       " 'их',\n",
       " 'использовать',\n",
       " 'Говоря',\n",
       " 'простым',\n",
       " 'языком',\n",
       " 'регулярное',\n",
       " 'выражение',\n",
       " 'это',\n",
       " 'последовательность',\n",
       " 'символов',\n",
       " 'используемая',\n",
       " 'для',\n",
       " 'поиска',\n",
       " 'и',\n",
       " 'замены',\n",
       " 'текста',\n",
       " 'в',\n",
       " 'строке',\n",
       " 'или',\n",
       " 'файле',\n",
       " 'Как',\n",
       " 'уже',\n",
       " 'было',\n",
       " 'упомянуто',\n",
       " 'их',\n",
       " 'поддерживает',\n",
       " 'множество',\n",
       " 'языков',\n",
       " 'общего',\n",
       " 'назначения',\n",
       " 'Python',\n",
       " 'Perl',\n",
       " 'R',\n",
       " 'Так',\n",
       " 'что',\n",
       " 'изучение',\n",
       " 'регулярных',\n",
       " 'выражений',\n",
       " 'рано',\n",
       " 'или',\n",
       " 'поздно',\n",
       " 'пригодится']"
      ]
     },
     "execution_count": 17,
     "metadata": {},
     "output_type": "execute_result"
    }
   ],
   "source": [
    "# получаем список слов\n",
    "re.findall(r'\\w+', text)"
   ]
  },
  {
   "cell_type": "code",
   "execution_count": 18,
   "metadata": {},
   "outputs": [
    {
     "data": {
      "text/plain": [
       "['Что',\n",
       " '',\n",
       " 'такое',\n",
       " '',\n",
       " 'регулярные',\n",
       " '',\n",
       " 'выражения',\n",
       " '',\n",
       " 'и',\n",
       " '',\n",
       " 'как',\n",
       " '',\n",
       " 'их',\n",
       " '',\n",
       " 'использовать',\n",
       " '',\n",
       " '',\n",
       " '',\n",
       " 'Говоря',\n",
       " '',\n",
       " 'простым',\n",
       " '',\n",
       " 'языком',\n",
       " '',\n",
       " '',\n",
       " 'регулярное',\n",
       " '',\n",
       " 'выражение',\n",
       " '',\n",
       " '',\n",
       " '',\n",
       " 'это',\n",
       " '',\n",
       " 'последовательность',\n",
       " '',\n",
       " 'символов',\n",
       " '',\n",
       " '',\n",
       " 'используемая',\n",
       " '',\n",
       " 'для',\n",
       " '',\n",
       " 'поиска',\n",
       " '',\n",
       " 'и',\n",
       " '',\n",
       " 'замены',\n",
       " '',\n",
       " 'текста',\n",
       " '',\n",
       " 'в',\n",
       " '',\n",
       " 'строке',\n",
       " '',\n",
       " 'или',\n",
       " '',\n",
       " 'файле',\n",
       " '',\n",
       " '',\n",
       " 'Как',\n",
       " '',\n",
       " 'уже',\n",
       " '',\n",
       " 'было',\n",
       " '',\n",
       " 'упомянуто',\n",
       " '',\n",
       " 'их',\n",
       " '',\n",
       " 'поддерживает',\n",
       " '',\n",
       " 'множество',\n",
       " '',\n",
       " 'языков',\n",
       " '',\n",
       " 'общего',\n",
       " '',\n",
       " 'назначения',\n",
       " '',\n",
       " '',\n",
       " 'Python',\n",
       " '',\n",
       " '',\n",
       " 'Perl',\n",
       " '',\n",
       " '',\n",
       " 'R',\n",
       " '',\n",
       " '',\n",
       " 'Так',\n",
       " '',\n",
       " 'что',\n",
       " '',\n",
       " 'изучение',\n",
       " '',\n",
       " 'регулярных',\n",
       " '',\n",
       " 'выражений',\n",
       " '',\n",
       " 'рано',\n",
       " '',\n",
       " 'или',\n",
       " '',\n",
       " 'поздно',\n",
       " '',\n",
       " 'пригодится',\n",
       " '',\n",
       " '']"
      ]
     },
     "execution_count": 18,
     "metadata": {},
     "output_type": "execute_result"
    }
   ],
   "source": [
    "# и слова, и пустые строки\n",
    "re.findall(r'\\w*', text)"
   ]
  },
  {
   "cell_type": "code",
   "execution_count": 19,
   "metadata": {},
   "outputs": [
    {
     "data": {
      "text/plain": [
       "['Ч',\n",
       " 'т',\n",
       " 'о',\n",
       " '',\n",
       " 'т',\n",
       " 'а',\n",
       " 'к',\n",
       " 'о',\n",
       " 'е',\n",
       " '',\n",
       " 'р',\n",
       " 'е',\n",
       " 'г',\n",
       " 'у',\n",
       " 'л',\n",
       " 'я',\n",
       " 'р',\n",
       " 'н',\n",
       " 'ы',\n",
       " 'е',\n",
       " '',\n",
       " 'в',\n",
       " 'ы',\n",
       " 'р',\n",
       " 'а',\n",
       " 'ж',\n",
       " 'е',\n",
       " 'н',\n",
       " 'и',\n",
       " 'я',\n",
       " '',\n",
       " 'и',\n",
       " '',\n",
       " 'к',\n",
       " 'а',\n",
       " 'к',\n",
       " '',\n",
       " 'и',\n",
       " 'х',\n",
       " '',\n",
       " 'и',\n",
       " 'с',\n",
       " 'п',\n",
       " 'о',\n",
       " 'л',\n",
       " 'ь',\n",
       " 'з',\n",
       " 'о',\n",
       " 'в',\n",
       " 'а',\n",
       " 'т',\n",
       " 'ь',\n",
       " '',\n",
       " '',\n",
       " '',\n",
       " 'Г',\n",
       " 'о',\n",
       " 'в',\n",
       " 'о',\n",
       " 'р',\n",
       " 'я',\n",
       " '',\n",
       " 'п',\n",
       " 'р',\n",
       " 'о',\n",
       " 'с',\n",
       " 'т',\n",
       " 'ы',\n",
       " 'м',\n",
       " '',\n",
       " 'я',\n",
       " 'з',\n",
       " 'ы',\n",
       " 'к',\n",
       " 'о',\n",
       " 'м',\n",
       " '',\n",
       " '',\n",
       " 'р',\n",
       " 'е',\n",
       " 'г',\n",
       " 'у',\n",
       " 'л',\n",
       " 'я',\n",
       " 'р',\n",
       " 'н',\n",
       " 'о',\n",
       " 'е',\n",
       " '',\n",
       " 'в',\n",
       " 'ы',\n",
       " 'р',\n",
       " 'а',\n",
       " 'ж',\n",
       " 'е',\n",
       " 'н',\n",
       " 'и',\n",
       " 'е',\n",
       " '',\n",
       " '',\n",
       " '',\n",
       " 'э',\n",
       " 'т',\n",
       " 'о',\n",
       " '',\n",
       " 'п',\n",
       " 'о',\n",
       " 'с',\n",
       " 'л',\n",
       " 'е',\n",
       " 'д',\n",
       " 'о',\n",
       " 'в',\n",
       " 'а',\n",
       " 'т',\n",
       " 'е',\n",
       " 'л',\n",
       " 'ь',\n",
       " 'н',\n",
       " 'о',\n",
       " 'с',\n",
       " 'т',\n",
       " 'ь',\n",
       " '',\n",
       " 'с',\n",
       " 'и',\n",
       " 'м',\n",
       " 'в',\n",
       " 'о',\n",
       " 'л',\n",
       " 'о',\n",
       " 'в',\n",
       " '',\n",
       " '',\n",
       " 'и',\n",
       " 'с',\n",
       " 'п',\n",
       " 'о',\n",
       " 'л',\n",
       " 'ь',\n",
       " 'з',\n",
       " 'у',\n",
       " 'е',\n",
       " 'м',\n",
       " 'а',\n",
       " 'я',\n",
       " '',\n",
       " 'д',\n",
       " 'л',\n",
       " 'я',\n",
       " '',\n",
       " 'п',\n",
       " 'о',\n",
       " 'и',\n",
       " 'с',\n",
       " 'к',\n",
       " 'а',\n",
       " '',\n",
       " 'и',\n",
       " '',\n",
       " 'з',\n",
       " 'а',\n",
       " 'м',\n",
       " 'е',\n",
       " 'н',\n",
       " 'ы',\n",
       " '',\n",
       " 'т',\n",
       " 'е',\n",
       " 'к',\n",
       " 'с',\n",
       " 'т',\n",
       " 'а',\n",
       " '',\n",
       " 'в',\n",
       " '',\n",
       " 'с',\n",
       " 'т',\n",
       " 'р',\n",
       " 'о',\n",
       " 'к',\n",
       " 'е',\n",
       " '',\n",
       " 'и',\n",
       " 'л',\n",
       " 'и',\n",
       " '',\n",
       " 'ф',\n",
       " 'а',\n",
       " 'й',\n",
       " 'л',\n",
       " 'е',\n",
       " '',\n",
       " '',\n",
       " 'К',\n",
       " 'а',\n",
       " 'к',\n",
       " '',\n",
       " 'у',\n",
       " 'ж',\n",
       " 'е',\n",
       " '',\n",
       " 'б',\n",
       " 'ы',\n",
       " 'л',\n",
       " 'о',\n",
       " '',\n",
       " 'у',\n",
       " 'п',\n",
       " 'о',\n",
       " 'м',\n",
       " 'я',\n",
       " 'н',\n",
       " 'у',\n",
       " 'т',\n",
       " 'о',\n",
       " '',\n",
       " 'и',\n",
       " 'х',\n",
       " '',\n",
       " 'п',\n",
       " 'о',\n",
       " 'д',\n",
       " 'д',\n",
       " 'е',\n",
       " 'р',\n",
       " 'ж',\n",
       " 'и',\n",
       " 'в',\n",
       " 'а',\n",
       " 'е',\n",
       " 'т',\n",
       " '',\n",
       " 'м',\n",
       " 'н',\n",
       " 'о',\n",
       " 'ж',\n",
       " 'е',\n",
       " 'с',\n",
       " 'т',\n",
       " 'в',\n",
       " 'о',\n",
       " '',\n",
       " 'я',\n",
       " 'з',\n",
       " 'ы',\n",
       " 'к',\n",
       " 'о',\n",
       " 'в',\n",
       " '',\n",
       " 'о',\n",
       " 'б',\n",
       " 'щ',\n",
       " 'е',\n",
       " 'г',\n",
       " 'о',\n",
       " '',\n",
       " 'н',\n",
       " 'а',\n",
       " 'з',\n",
       " 'н',\n",
       " 'а',\n",
       " 'ч',\n",
       " 'е',\n",
       " 'н',\n",
       " 'и',\n",
       " 'я',\n",
       " '',\n",
       " '',\n",
       " 'P',\n",
       " 'y',\n",
       " 't',\n",
       " 'h',\n",
       " 'o',\n",
       " 'n',\n",
       " '',\n",
       " '',\n",
       " 'P',\n",
       " 'e',\n",
       " 'r',\n",
       " 'l',\n",
       " '',\n",
       " '',\n",
       " 'R',\n",
       " '',\n",
       " '',\n",
       " 'Т',\n",
       " 'а',\n",
       " 'к',\n",
       " '',\n",
       " 'ч',\n",
       " 'т',\n",
       " 'о',\n",
       " '',\n",
       " 'и',\n",
       " 'з',\n",
       " 'у',\n",
       " 'ч',\n",
       " 'е',\n",
       " 'н',\n",
       " 'и',\n",
       " 'е',\n",
       " '',\n",
       " 'р',\n",
       " 'е',\n",
       " 'г',\n",
       " 'у',\n",
       " 'л',\n",
       " 'я',\n",
       " 'р',\n",
       " 'н',\n",
       " 'ы',\n",
       " 'х',\n",
       " '',\n",
       " 'в',\n",
       " 'ы',\n",
       " 'р',\n",
       " 'а',\n",
       " 'ж',\n",
       " 'е',\n",
       " 'н',\n",
       " 'и',\n",
       " 'й',\n",
       " '',\n",
       " 'р',\n",
       " 'а',\n",
       " 'н',\n",
       " 'о',\n",
       " '',\n",
       " 'и',\n",
       " 'л',\n",
       " 'и',\n",
       " '',\n",
       " 'п',\n",
       " 'о',\n",
       " 'з',\n",
       " 'д',\n",
       " 'н',\n",
       " 'о',\n",
       " '',\n",
       " 'п',\n",
       " 'р',\n",
       " 'и',\n",
       " 'г',\n",
       " 'о',\n",
       " 'д',\n",
       " 'и',\n",
       " 'т',\n",
       " 'с',\n",
       " 'я',\n",
       " '',\n",
       " '']"
      ]
     },
     "execution_count": 19,
     "metadata": {},
     "output_type": "execute_result"
    }
   ],
   "source": [
    "# отдельные символы\n",
    "re.findall(r'\\w?', text)"
   ]
  },
  {
   "cell_type": "code",
   "execution_count": 21,
   "metadata": {},
   "outputs": [],
   "source": [
    "# необходимо из строки с условными датами вытащить их\n",
    "registration = 'Date of start: 4-12. Date of registration: 20-11'"
   ]
  },
  {
   "cell_type": "code",
   "execution_count": 22,
   "metadata": {},
   "outputs": [
    {
     "data": {
      "text/plain": [
       "['4-12', '20-11']"
      ]
     },
     "execution_count": 22,
     "metadata": {},
     "output_type": "execute_result"
    }
   ],
   "source": [
    "re.findall(r'\\d{1,2}-\\d{1,2}', registration)"
   ]
  },
  {
   "cell_type": "code",
   "execution_count": 23,
   "metadata": {},
   "outputs": [],
   "source": [
    "# вытащим номера телефонов и текста\n",
    "phone_numbers = 'Мария: 8-943-342-23-32 Александр: 8-323-432-23-67'"
   ]
  },
  {
   "cell_type": "code",
   "execution_count": 24,
   "metadata": {},
   "outputs": [
    {
     "data": {
      "text/plain": [
       "['8-943-342-23-32', '8-323-432-23-67']"
      ]
     },
     "execution_count": 24,
     "metadata": {},
     "output_type": "execute_result"
    }
   ],
   "source": [
    "phone_pattern = r'\\d-\\d{3}-\\d{3}-\\d{2}-\\d{2}'\n",
    "re.findall(phone_pattern, phone_numbers)"
   ]
  },
  {
   "cell_type": "code",
   "execution_count": 25,
   "metadata": {
    "scrolled": true
   },
   "outputs": [],
   "source": [
    "# ПРАКТИКА. Свалидируем дату\n",
    "date = '1st september 2019 17:25'"
   ]
  },
  {
   "cell_type": "code",
   "execution_count": 26,
   "metadata": {},
   "outputs": [
    {
     "data": {
      "text/plain": [
       "['1st september 2019']"
      ]
     },
     "execution_count": 26,
     "metadata": {},
     "output_type": "execute_result"
    }
   ],
   "source": [
    "re.findall(r'\\d{1,2}\\w{2}\\s\\w+\\s\\d{4}', date)"
   ]
  },
  {
   "cell_type": "code",
   "execution_count": 30,
   "metadata": {},
   "outputs": [],
   "source": [
    "# ПРАКТИКА. Посчитаем количество лайков и репостов по всем сообщениям\n",
    "messages = ['Опять дождь! Лайков: 5, Репостов: 4', 'Крутой был концерт! Лайков: 28, Репостов: 22']"
   ]
  },
  {
   "cell_type": "code",
   "execution_count": 32,
   "metadata": {},
   "outputs": [
    {
     "name": "stdout",
     "output_type": "stream",
     "text": [
      "33\n",
      "26\n"
     ]
    }
   ],
   "source": [
    "likes_pattern = r'Лайков:\\s\\d+'\n",
    "reposts_pattern = r'Репостов:\\s\\d+'\n",
    "\n",
    "likes = 0\n",
    "reposts = 0\n",
    "\n",
    "for msg in messages:\n",
    "    if re.findall(likes_pattern, msg):\n",
    "        likes += int(re.findall(r'\\d+', re.findall(likes_pattern, msg)[0])[0])\n",
    "    if re.findall(reposts_pattern, msg):\n",
    "        reposts += int(re.findall(r'\\d+', re.findall(reposts_pattern, msg)[0])[0])\n",
    "        \n",
    "print(likes)\n",
    "print(reposts)"
   ]
  },
  {
   "cell_type": "code",
   "execution_count": 33,
   "metadata": {},
   "outputs": [],
   "source": [
    "# посчитаем количество восклицательных предложений в твите\n",
    "tweet_2 = 'Какое замечательное место! Обязательно вернусть сюда снова. Всем советую!!!'"
   ]
  },
  {
   "cell_type": "code",
   "execution_count": 35,
   "metadata": {},
   "outputs": [
    {
     "data": {
      "text/plain": [
       "['Какое замечательное место',\n",
       " 'Обязательно вернусть сюда снова. Всем советую!!!']"
      ]
     },
     "execution_count": 35,
     "metadata": {},
     "output_type": "execute_result"
    }
   ],
   "source": [
    "# re.split(r'!+', tweet_2)\n",
    "re.split(r'!+ ', tweet_2)\n",
    "# len(re.split(r'!+\\s', tweet_2))"
   ]
  },
  {
   "cell_type": "code",
   "execution_count": 98,
   "metadata": {},
   "outputs": [
    {
     "name": "stdout",
     "output_type": "stream",
     "text": [
      "None\n"
     ]
    }
   ],
   "source": [
    "# search ищет по всей строке, а match только в начале\n",
    "text = \"\"\"Что такое регулярные выражения и как их использовать? \n",
    "Говоря простым языком, регулярное выражение — это последовательность символов, используемая для поиска и замены текста в строке или файле. Как уже было упомянуто,\\\n",
    "их поддерживает множество языков общего назначения: Python, Perl, R.\n",
    "Так что изучение регулярных выражений рано или поздно пригодится.\"\"\"\n",
    "\n",
    "result = re.match(r'Python', text)\n",
    "# print('Нашел' if result else 'Не нашел')\n",
    "result"
   ]
  },
  {
   "cell_type": "code",
   "execution_count": 101,
   "metadata": {},
   "outputs": [
    {
     "data": {
      "text/plain": [
       "<re.Match object; span=(0, 3), match='Что'>"
      ]
     },
     "execution_count": 101,
     "metadata": {},
     "output_type": "execute_result"
    }
   ],
   "source": [
    "# функции Match и Search возвращают Match-объект\n",
    "re.match(r'Что', text)"
   ]
  },
  {
   "cell_type": "code",
   "execution_count": 102,
   "metadata": {},
   "outputs": [
    {
     "data": {
      "text/plain": [
       "'Python'"
      ]
     },
     "execution_count": 102,
     "metadata": {},
     "output_type": "execute_result"
    }
   ],
   "source": [
    "# обращение к методам Match-объекта возвращаемого Search. Метод group() писать строчными буквами!\n",
    "res = re.search(r'Python', text)\n",
    "res.start(), res.end()\n",
    "res.group()\n",
    "\n",
    "# res = re.search(r'(Python).*(Perl)', text)\n",
    "# res.group(1), res.group(2)"
   ]
  },
  {
   "cell_type": "code",
   "execution_count": null,
   "metadata": {},
   "outputs": [],
   "source": []
  },
  {
   "cell_type": "code",
   "execution_count": null,
   "metadata": {},
   "outputs": [],
   "source": [
    "# определим находится ли домен в зоне com\n",
    "domain = 'www.site.com'"
   ]
  },
  {
   "cell_type": "code",
   "execution_count": null,
   "metadata": {},
   "outputs": [],
   "source": [
    "re.findall('www.+com', domain)"
   ]
  },
  {
   "cell_type": "code",
   "execution_count": null,
   "metadata": {},
   "outputs": [],
   "source": [
    "# поищем только в начале и конце строки\n",
    "history_comment = '20 век был более опасным, чем 19 век'"
   ]
  },
  {
   "cell_type": "code",
   "execution_count": null,
   "metadata": {},
   "outputs": [],
   "source": [
    "re.findall(r'\\d{1,2}\\s\\век', history_comment)"
   ]
  },
  {
   "cell_type": "code",
   "execution_count": null,
   "metadata": {},
   "outputs": [],
   "source": [
    "re.findall(r'^\\d{1,2}\\s\\век', history_comment)"
   ]
  },
  {
   "cell_type": "code",
   "execution_count": null,
   "metadata": {},
   "outputs": [],
   "source": [
    "re.findall(r'\\d{1,2}\\s\\век$', history_comment)"
   ]
  },
  {
   "cell_type": "code",
   "execution_count": null,
   "metadata": {},
   "outputs": [],
   "source": [
    "# экранирование. Разделим текст по точкам\n",
    "text = \"\"\"Что такое регулярные выражения и как их использовать? \n",
    "Говоря простым языком, регулярное выражение — это последовательность символов, используемая для поиска и замены текста в строке или файле. Как уже было упомянуто,\n",
    "их поддерживает множество языков общего назначения: Python, Perl, R.\n",
    "Так что изучение регулярных выражений рано или поздно пригодится.\"\"\""
   ]
  },
  {
   "cell_type": "code",
   "execution_count": null,
   "metadata": {},
   "outputs": [],
   "source": [
    "re.split(r'\\.\\s', text)"
   ]
  },
  {
   "cell_type": "code",
   "execution_count": null,
   "metadata": {},
   "outputs": [],
   "source": [
    "# ИЛИ\n",
    "market_search = 'Что лучше: ноутбук или компьютер?'\n",
    "re.findall('ноутбук|компьютер', market_search)"
   ]
  },
  {
   "cell_type": "code",
   "execution_count": null,
   "metadata": {},
   "outputs": [],
   "source": [
    "# [] - найдем слово во всем склонениях\n",
    "text = \"\"\"Что такое регулярные выражения и как их использовать? \n",
    "Говоря простым языком, регулярное выражение — это последовательность символов, используемая для поиска и замены текста в строке или файле. Как уже было упомянуто,\n",
    "их поддерживает множество языков общего назначения: Python, Perl, R.\n",
    "Так что изучение регулярных выражений рано или поздно пригодится.\"\"\"\n",
    "pattern = 'регулярн[а-я]+ выражен[а-я]+'\n",
    "re.findall(pattern, text)"
   ]
  },
  {
   "cell_type": "code",
   "execution_count": null,
   "metadata": {},
   "outputs": [],
   "source": [
    "websites = 'www.101.com  www.google.com'"
   ]
  },
  {
   "cell_type": "code",
   "execution_count": null,
   "metadata": {},
   "outputs": [],
   "source": [
    "re.findall(r'www[^0-9]+com', websites)"
   ]
  },
  {
   "cell_type": "code",
   "execution_count": 48,
   "metadata": {},
   "outputs": [],
   "source": [
    "# ПРАКТИКА. Разделим текст по запятой и по точкам\n",
    "tweet_3 = 'Какое замечательное место! Обязательно вернусть сюда снова. Всем советую!!!'"
   ]
  },
  {
   "cell_type": "code",
   "execution_count": 49,
   "metadata": {},
   "outputs": [
    {
     "data": {
      "text/plain": [
       "['Какое замечательное место',\n",
       " 'Обязательно вернусть сюда снова',\n",
       " 'Всем советую!!!']"
      ]
     },
     "execution_count": 49,
     "metadata": {},
     "output_type": "execute_result"
    }
   ],
   "source": [
    "re.split(r'[.?!]+\\s', tweet_3)"
   ]
  },
  {
   "cell_type": "code",
   "execution_count": 113,
   "metadata": {},
   "outputs": [
    {
     "data": {
      "text/plain": [
       "'Что такое regex и как их использовать? \\nГоворя простым языком, regex — это последовательность символов, используемая для поиска и замены текста в строке или файле. Как уже было упомянуто,их поддерживает множество языков общего назначения: Python, Perl, R.\\nТак что изучение regex рано или поздно пригодится.'"
      ]
     },
     "execution_count": 113,
     "metadata": {},
     "output_type": "execute_result"
    }
   ],
   "source": [
    "# произведем замену на regex\n",
    "re.sub(r'регулярн[а-я]+ выражен[а-я]+', 'regex', text)"
   ]
  },
  {
   "cell_type": "code",
   "execution_count": null,
   "metadata": {},
   "outputs": [],
   "source": []
  },
  {
   "cell_type": "code",
   "execution_count": 2,
   "metadata": {},
   "outputs": [],
   "source": [
    "# скобочные группы\n",
    "# выделим группы символов из посадочного талона, где:\n",
    "# - первые 2 символа - это авиакомпания;\n",
    "# - 4 следующие символа - номер рейса;\n",
    "# - 3 следующих символа - аэропорт отправления;\n",
    "# - 3 следюущих - аэропорт прибытия;\n",
    "# - оставшиеся - дата рейса\n",
    "# Все буквы всегда в верхнем регистре"
   ]
  },
  {
   "cell_type": "code",
   "execution_count": 4,
   "metadata": {},
   "outputs": [],
   "source": [
    "flight = 'Boarding pass: LA4214 AER-CDB 06NOV'"
   ]
  },
  {
   "cell_type": "code",
   "execution_count": 5,
   "metadata": {},
   "outputs": [],
   "source": [
    "flight = 'Boarding pass: LA4214 AER-CDB 06NOV'\n",
    "regex_flight = r'([A-Z]{2})(\\d{4})\\s([A-Z]{3})-([A-Z]{3})\\s(\\d{2}[A-Z]{3})'"
   ]
  },
  {
   "cell_type": "code",
   "execution_count": 50,
   "metadata": {},
   "outputs": [
    {
     "name": "stdout",
     "output_type": "stream",
     "text": [
      "[('LA', '4214', 'AER', 'CDB', '06NOV')]\n"
     ]
    }
   ],
   "source": [
    "# findall выводит скобочные группы кортежем\n",
    "flight_result = re.findall(regex_flight, flight)\n",
    "print(flight_result)"
   ]
  },
  {
   "cell_type": "code",
   "execution_count": 51,
   "metadata": {},
   "outputs": [
    {
     "name": "stdout",
     "output_type": "stream",
     "text": [
      "<re.Match object; span=(15, 35), match='LA4214 AER-CDB 06NOV'>\n",
      "4214\n"
     ]
    }
   ],
   "source": [
    "# match и search выводят скобочные группы Match-объектом, отдельные группы можно выводить через их номер\n",
    "flight_match_result = re.search(regex_flight, flight)\n",
    "print(flight_match_result)\n",
    "print(flight_match_result.group(2))"
   ]
  },
  {
   "cell_type": "code",
   "execution_count": 52,
   "metadata": {},
   "outputs": [
    {
     "data": {
      "text/plain": [
       "['777', '5534']"
      ]
     },
     "execution_count": 52,
     "metadata": {},
     "output_type": "execute_result"
    }
   ],
   "source": [
    "# квантификатор внутри группы и после нее  – это совершенно разные вещи!\n",
    "numbers = 'Мои счастливые числа 777 и 5534'\n",
    "re.findall(r'\\d+', numbers)"
   ]
  },
  {
   "cell_type": "code",
   "execution_count": 53,
   "metadata": {},
   "outputs": [
    {
     "data": {
      "text/plain": [
       "['7', '4']"
      ]
     },
     "execution_count": 53,
     "metadata": {},
     "output_type": "execute_result"
    }
   ],
   "source": [
    "re.findall(r'(\\d)+', numbers)\n",
    "# так происходит, потому что эти цифры последовательно повторяются 1 и более раз"
   ]
  },
  {
   "cell_type": "code",
   "execution_count": 54,
   "metadata": {},
   "outputs": [
    {
     "data": {
      "text/plain": [
       "'30.08.1991'"
      ]
     },
     "execution_count": 54,
     "metadata": {},
     "output_type": "execute_result"
    }
   ],
   "source": [
    "# переведем даты к другому формату при помощи групп\n",
    "date = '08/30/1991'\n",
    "re.sub(r'(\\d\\d)/(\\d\\d)/(\\d{4})', r'\\2.\\1.\\3', date)"
   ]
  },
  {
   "cell_type": "code",
   "execution_count": 112,
   "metadata": {},
   "outputs": [
    {
     "data": {
      "text/plain": [
       "['6', '5', '4']"
      ]
     },
     "execution_count": 112,
     "metadata": {},
     "output_type": "execute_result"
    }
   ],
   "source": [
    "# удалим повторяющиеся числа. Но конкретно эта реализация плохая - она просто возвращает последние цифры из каждой последовательности\n",
    "numbers = '666 55 4'\n",
    "# re.search(r'(\\d)+', numbers)\n",
    "re.findall(r'(\\d)+', numbers)\n",
    "# re.sub(r'(\\d)+', r'\\1', numbers)"
   ]
  },
  {
   "cell_type": "code",
   "execution_count": 103,
   "metadata": {},
   "outputs": [
    {
     "data": {
      "text/plain": [
       "['понравился']"
      ]
     },
     "execution_count": 103,
     "metadata": {},
     "output_type": "execute_result"
    }
   ],
   "source": [
    "#non-capturing groups - используются в шаблоне но не выводятся в результате\n",
    "# попробуем достать оценочные слова, которые стоят перед \"фильм, кино\"\n",
    "review = 'Мне очень понравился этот фильм! Понравилось еще расположение кинотеатра, очень удобное!!!'\n",
    "regex_negative = r'(понравился|понравилось).+(?:фильм|кино).+'\n",
    "negative_matches = re.findall(regex_negative, review)\n",
    "negative_matches"
   ]
  },
  {
   "cell_type": "code",
   "execution_count": null,
   "metadata": {},
   "outputs": [],
   "source": [
    "# lookaround. Достанем имена только загруженных файлов\n",
    "report = 'файл 11.txt загружен, файл 22.txt загружен, файл 33.txt ошибка'\n",
    "find_downloaded = r'\\d+\\.txt(?=\\sзагружен)'\n",
    "files_error = r'\\d+\\.txt(?!\\sзагружен)'\n",
    "re.findall(find_downloaded, report)\n",
    "re.findall(files_error, report)"
   ]
  },
  {
   "cell_type": "code",
   "execution_count": 90,
   "metadata": {},
   "outputs": [
    {
     "data": {
      "text/plain": [
       "['4.44', '10.88', '99.99']"
      ]
     },
     "execution_count": 90,
     "metadata": {},
     "output_type": "execute_result"
    }
   ],
   "source": [
    "# ПРАКТИКА. Получить только рублевые цены\n",
    "prices = 'RUB4.44, RUB10.88, EUR0.99, RUB99.99'\n",
    "\n",
    "# \n",
    "positive_ru = r'(?<=RUB)\\d{1,2}\\.\\d{2}'\n",
    "re.findall(positive_ru, prices)"
   ]
  }
 ],
 "metadata": {
  "kernelspec": {
   "display_name": "Python 3",
   "language": "python",
   "name": "python3"
  },
  "language_info": {
   "codemirror_mode": {
    "name": "ipython",
    "version": 3
   },
   "file_extension": ".py",
   "mimetype": "text/x-python",
   "name": "python",
   "nbconvert_exporter": "python",
   "pygments_lexer": "ipython3",
   "version": "3.8.3"
  }
 },
 "nbformat": 4,
 "nbformat_minor": 2
}
